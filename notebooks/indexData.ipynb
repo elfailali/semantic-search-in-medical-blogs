{
 "cells": [
  {
   "cell_type": "code",
   "execution_count": 53,
   "metadata": {},
   "outputs": [
    {
     "name": "stdout",
     "output_type": "stream",
     "text": [
      "Requirement already satisfied: elasticsearch in c:\\users\\honor\\anaconda3\\lib\\site-packages (8.11.0)\n",
      "Requirement already satisfied: elastic-transport<9,>=8 in c:\\users\\honor\\anaconda3\\lib\\site-packages (from elasticsearch) (8.10.0)\n",
      "Requirement already satisfied: urllib3<3,>=1.26.2 in c:\\users\\honor\\anaconda3\\lib\\site-packages (from elastic-transport<9,>=8->elasticsearch) (1.26.11)\n",
      "Requirement already satisfied: certifi in c:\\users\\honor\\appdata\\roaming\\python\\python39\\site-packages (from elastic-transport<9,>=8->elasticsearch) (2022.12.7)\n"
     ]
    }
   ],
   "source": [
    "!pip install elasticsearch"
   ]
  },
  {
   "cell_type": "code",
   "execution_count": 54,
   "metadata": {},
   "outputs": [],
   "source": [
    "import pandas as pd\n",
    "from elasticsearch import Elasticsearch"
   ]
  },
  {
   "cell_type": "code",
   "execution_count": 55,
   "metadata": {},
   "outputs": [],
   "source": [
    "es = Elasticsearch('http://localhost:9200/')"
   ]
  },
  {
   "cell_type": "code",
   "execution_count": 56,
   "metadata": {},
   "outputs": [
    {
     "data": {
      "text/plain": [
       "True"
      ]
     },
     "execution_count": 56,
     "metadata": {},
     "output_type": "execute_result"
    }
   ],
   "source": [
    "es.ping()"
   ]
  },
  {
   "cell_type": "code",
   "execution_count": 57,
   "metadata": {},
   "outputs": [],
   "source": [
    "import tensorflow"
   ]
  },
  {
   "cell_type": "code",
   "execution_count": 58,
   "metadata": {},
   "outputs": [
    {
     "name": "stdout",
     "output_type": "stream",
     "text": [
      "Name: elasticsearch\n",
      "Version: 8.11.0\n",
      "Summary: Python client for Elasticsearch\n",
      "Home-page: https://github.com/elastic/elasticsearch-py\n",
      "Author: Elastic Client Library Maintainers\n",
      "Author-email: client-libs@elastic.co\n",
      "License: Apache-2.0\n",
      "Location: c:\\users\\honor\\anaconda3\\lib\\site-packages\n",
      "Requires: elastic-transport\n",
      "Required-by: \n",
      "Note: you may need to restart the kernel to use updated packages.\n"
     ]
    }
   ],
   "source": [
    "pip show elasticsearch"
   ]
  },
  {
   "cell_type": "markdown",
   "metadata": {},
   "source": [
    "# Prepare the data"
   ]
  },
  {
   "cell_type": "code",
   "execution_count": 59,
   "metadata": {},
   "outputs": [],
   "source": [
    "df = pd.read_json(\"../data/HarvardHealthBlog/Harvard Health Blog - Live a Healthier Lifestyle - Harvard Health page 1.json\").loc[:100]"
   ]
  },
  {
   "cell_type": "code",
   "execution_count": 60,
   "metadata": {},
   "outputs": [],
   "source": [
    "# df_pm = pd.read_csv(\"data/Pubmed_200k_RCT/train.csv\").loc[:100]"
   ]
  },
  {
   "cell_type": "code",
   "execution_count": 61,
   "metadata": {
    "scrolled": true
   },
   "outputs": [
    {
     "data": {
      "text/html": [
       "<div>\n",
       "<style scoped>\n",
       "    .dataframe tbody tr th:only-of-type {\n",
       "        vertical-align: middle;\n",
       "    }\n",
       "\n",
       "    .dataframe tbody tr th {\n",
       "        vertical-align: top;\n",
       "    }\n",
       "\n",
       "    .dataframe thead th {\n",
       "        text-align: right;\n",
       "    }\n",
       "</style>\n",
       "<table border=\"1\" class=\"dataframe\">\n",
       "  <thead>\n",
       "    <tr style=\"text-align: right;\">\n",
       "      <th></th>\n",
       "      <th>Title</th>\n",
       "      <th>Title_URL</th>\n",
       "      <th>Image</th>\n",
       "      <th>fontbold_URL</th>\n",
       "      <th>fontbold</th>\n",
       "      <th>block</th>\n",
       "      <th>Field</th>\n",
       "    </tr>\n",
       "  </thead>\n",
       "  <tbody>\n",
       "    <tr>\n",
       "      <th>0</th>\n",
       "      <td>Magnets, sound, and batteries: Choosing safe toys</td>\n",
       "      <td>https://www.health.harvard.edu/blog/magnets-so...</td>\n",
       "      <td>https://domf5oio6qrcr.cloudfront.net/medialibr...</td>\n",
       "      <td>https://www.health.harvard.edu/topics/child-an...</td>\n",
       "      <td>Child &amp; Teen Health</td>\n",
       "      <td>\\n            Updated December 13, 2023\\n</td>\n",
       "      <td>If you're choosing gifts to give or donate to ...</td>\n",
       "    </tr>\n",
       "    <tr>\n",
       "      <th>1</th>\n",
       "      <td>No-cost, low-cost, and bigger splurges for cli...</td>\n",
       "      <td>https://www.health.harvard.edu/blog/no-cost-lo...</td>\n",
       "      <td>https://domf5oio6qrcr.cloudfront.net/medialibr...</td>\n",
       "      <td>https://www.health.harvard.edu/topics/staying-...</td>\n",
       "      <td>Staying Healthy</td>\n",
       "      <td>\\n            Published December 11, 2023\\n</td>\n",
       "      <td>If you're looking for gifts to give or donate,...</td>\n",
       "    </tr>\n",
       "    <tr>\n",
       "      <th>2</th>\n",
       "      <td>What to do if you think your child has the flu</td>\n",
       "      <td>https://www.health.harvard.edu/blog/what-to-do...</td>\n",
       "      <td>https://domf5oio6qrcr.cloudfront.net/medialibr...</td>\n",
       "      <td>https://www.health.harvard.edu/topics/child-an...</td>\n",
       "      <td>Child &amp; Teen Health</td>\n",
       "      <td>\\n            Updated September 12, 2023\\n</td>\n",
       "      <td>If you hear your child start coughing, it's na...</td>\n",
       "    </tr>\n",
       "    <tr>\n",
       "      <th>3</th>\n",
       "      <td>When should you hire in-home help or health ai...</td>\n",
       "      <td>https://www.health.harvard.edu/blog/when-shoul...</td>\n",
       "      <td>https://domf5oio6qrcr.cloudfront.net/medialibr...</td>\n",
       "      <td>https://www.health.harvard.edu/topics/staying-...</td>\n",
       "      <td>Staying Healthy</td>\n",
       "      <td>\\n            Published December 6, 2023\\n</td>\n",
       "      <td>Most people want to live at home for as long a...</td>\n",
       "    </tr>\n",
       "    <tr>\n",
       "      <th>4</th>\n",
       "      <td>Small pets are delightful, but some carry dang...</td>\n",
       "      <td>https://www.health.harvard.edu/blog/small-pets...</td>\n",
       "      <td>https://domf5oio6qrcr.cloudfront.net/medialibr...</td>\n",
       "      <td>https://www.health.harvard.edu/topics/staying-...</td>\n",
       "      <td>Staying Healthy</td>\n",
       "      <td>\\n            Published December 4, 2023\\n</td>\n",
       "      <td>Small animals like turtles, iguanas, and frogs...</td>\n",
       "    </tr>\n",
       "  </tbody>\n",
       "</table>\n",
       "</div>"
      ],
      "text/plain": [
       "                                               Title  \\\n",
       "0  Magnets, sound, and batteries: Choosing safe toys   \n",
       "1  No-cost, low-cost, and bigger splurges for cli...   \n",
       "2     What to do if you think your child has the flu   \n",
       "3  When should you hire in-home help or health ai...   \n",
       "4  Small pets are delightful, but some carry dang...   \n",
       "\n",
       "                                           Title_URL  \\\n",
       "0  https://www.health.harvard.edu/blog/magnets-so...   \n",
       "1  https://www.health.harvard.edu/blog/no-cost-lo...   \n",
       "2  https://www.health.harvard.edu/blog/what-to-do...   \n",
       "3  https://www.health.harvard.edu/blog/when-shoul...   \n",
       "4  https://www.health.harvard.edu/blog/small-pets...   \n",
       "\n",
       "                                               Image  \\\n",
       "0  https://domf5oio6qrcr.cloudfront.net/medialibr...   \n",
       "1  https://domf5oio6qrcr.cloudfront.net/medialibr...   \n",
       "2  https://domf5oio6qrcr.cloudfront.net/medialibr...   \n",
       "3  https://domf5oio6qrcr.cloudfront.net/medialibr...   \n",
       "4  https://domf5oio6qrcr.cloudfront.net/medialibr...   \n",
       "\n",
       "                                        fontbold_URL             fontbold  \\\n",
       "0  https://www.health.harvard.edu/topics/child-an...  Child & Teen Health   \n",
       "1  https://www.health.harvard.edu/topics/staying-...      Staying Healthy   \n",
       "2  https://www.health.harvard.edu/topics/child-an...  Child & Teen Health   \n",
       "3  https://www.health.harvard.edu/topics/staying-...      Staying Healthy   \n",
       "4  https://www.health.harvard.edu/topics/staying-...      Staying Healthy   \n",
       "\n",
       "                                             block  \\\n",
       "0    \\n            Updated December 13, 2023\\n       \n",
       "1  \\n            Published December 11, 2023\\n       \n",
       "2   \\n            Updated September 12, 2023\\n       \n",
       "3   \\n            Published December 6, 2023\\n       \n",
       "4   \\n            Published December 4, 2023\\n       \n",
       "\n",
       "                                               Field  \n",
       "0  If you're choosing gifts to give or donate to ...  \n",
       "1  If you're looking for gifts to give or donate,...  \n",
       "2  If you hear your child start coughing, it's na...  \n",
       "3  Most people want to live at home for as long a...  \n",
       "4  Small animals like turtles, iguanas, and frogs...  "
      ]
     },
     "execution_count": 61,
     "metadata": {},
     "output_type": "execute_result"
    }
   ],
   "source": [
    "df.head()"
   ]
  },
  {
   "cell_type": "code",
   "execution_count": 62,
   "metadata": {},
   "outputs": [
    {
     "data": {
      "text/plain": [
       "'https://domf5oio6qrcr.cloudfront.net/medialibrary/10369/GettyImages-853938328.jpg'"
      ]
     },
     "execution_count": 62,
     "metadata": {},
     "output_type": "execute_result"
    }
   ],
   "source": [
    "df.Image[0]"
   ]
  },
  {
   "cell_type": "code",
   "execution_count": 63,
   "metadata": {},
   "outputs": [
    {
     "data": {
      "text/plain": [
       "0"
      ]
     },
     "execution_count": 63,
     "metadata": {},
     "output_type": "execute_result"
    }
   ],
   "source": [
    "df.isna().sum().sum()"
   ]
  },
  {
   "cell_type": "markdown",
   "metadata": {},
   "source": [
    "# Convert text to Vector using S-BERT Model"
   ]
  },
  {
   "cell_type": "code",
   "execution_count": 64,
   "metadata": {},
   "outputs": [],
   "source": [
    "from tqdm import tqdm\n",
    "tqdm.pandas()\n"
   ]
  },
  {
   "cell_type": "code",
   "execution_count": 65,
   "metadata": {},
   "outputs": [],
   "source": [
    "from sentence_transformers import SentenceTransformer"
   ]
  },
  {
   "cell_type": "code",
   "execution_count": 66,
   "metadata": {},
   "outputs": [],
   "source": [
    "model = SentenceTransformer('all-mpnet-base-v2')"
   ]
  },
  {
   "cell_type": "code",
   "execution_count": 67,
   "metadata": {},
   "outputs": [
    {
     "name": "stderr",
     "output_type": "stream",
     "text": [
      "100%|██████████████████████████████████████████████████████████████████████████████████| 60/60 [00:08<00:00,  6.68it/s]\n"
     ]
    }
   ],
   "source": [
    "df[\"description_vector\"] = df[\"Field\"].progress_apply(lambda x: model.encode(x))"
   ]
  },
  {
   "cell_type": "code",
   "execution_count": 68,
   "metadata": {},
   "outputs": [
    {
     "data": {
      "text/html": [
       "<div>\n",
       "<style scoped>\n",
       "    .dataframe tbody tr th:only-of-type {\n",
       "        vertical-align: middle;\n",
       "    }\n",
       "\n",
       "    .dataframe tbody tr th {\n",
       "        vertical-align: top;\n",
       "    }\n",
       "\n",
       "    .dataframe thead th {\n",
       "        text-align: right;\n",
       "    }\n",
       "</style>\n",
       "<table border=\"1\" class=\"dataframe\">\n",
       "  <thead>\n",
       "    <tr style=\"text-align: right;\">\n",
       "      <th></th>\n",
       "      <th>Title</th>\n",
       "      <th>Title_URL</th>\n",
       "      <th>Image</th>\n",
       "      <th>fontbold_URL</th>\n",
       "      <th>fontbold</th>\n",
       "      <th>block</th>\n",
       "      <th>Field</th>\n",
       "      <th>description_vector</th>\n",
       "    </tr>\n",
       "  </thead>\n",
       "  <tbody>\n",
       "    <tr>\n",
       "      <th>0</th>\n",
       "      <td>Magnets, sound, and batteries: Choosing safe toys</td>\n",
       "      <td>https://www.health.harvard.edu/blog/magnets-so...</td>\n",
       "      <td>https://domf5oio6qrcr.cloudfront.net/medialibr...</td>\n",
       "      <td>https://www.health.harvard.edu/topics/child-an...</td>\n",
       "      <td>Child &amp; Teen Health</td>\n",
       "      <td>\\n            Updated December 13, 2023\\n</td>\n",
       "      <td>If you're choosing gifts to give or donate to ...</td>\n",
       "      <td>[-0.0070151784, 0.0033397812, -0.018809972, 0....</td>\n",
       "    </tr>\n",
       "    <tr>\n",
       "      <th>1</th>\n",
       "      <td>No-cost, low-cost, and bigger splurges for cli...</td>\n",
       "      <td>https://www.health.harvard.edu/blog/no-cost-lo...</td>\n",
       "      <td>https://domf5oio6qrcr.cloudfront.net/medialibr...</td>\n",
       "      <td>https://www.health.harvard.edu/topics/staying-...</td>\n",
       "      <td>Staying Healthy</td>\n",
       "      <td>\\n            Published December 11, 2023\\n</td>\n",
       "      <td>If you're looking for gifts to give or donate,...</td>\n",
       "      <td>[0.041044563, 0.05344586, 0.017541107, 0.07421...</td>\n",
       "    </tr>\n",
       "  </tbody>\n",
       "</table>\n",
       "</div>"
      ],
      "text/plain": [
       "                                               Title  \\\n",
       "0  Magnets, sound, and batteries: Choosing safe toys   \n",
       "1  No-cost, low-cost, and bigger splurges for cli...   \n",
       "\n",
       "                                           Title_URL  \\\n",
       "0  https://www.health.harvard.edu/blog/magnets-so...   \n",
       "1  https://www.health.harvard.edu/blog/no-cost-lo...   \n",
       "\n",
       "                                               Image  \\\n",
       "0  https://domf5oio6qrcr.cloudfront.net/medialibr...   \n",
       "1  https://domf5oio6qrcr.cloudfront.net/medialibr...   \n",
       "\n",
       "                                        fontbold_URL             fontbold  \\\n",
       "0  https://www.health.harvard.edu/topics/child-an...  Child & Teen Health   \n",
       "1  https://www.health.harvard.edu/topics/staying-...      Staying Healthy   \n",
       "\n",
       "                                             block  \\\n",
       "0    \\n            Updated December 13, 2023\\n       \n",
       "1  \\n            Published December 11, 2023\\n       \n",
       "\n",
       "                                               Field  \\\n",
       "0  If you're choosing gifts to give or donate to ...   \n",
       "1  If you're looking for gifts to give or donate,...   \n",
       "\n",
       "                                  description_vector  \n",
       "0  [-0.0070151784, 0.0033397812, -0.018809972, 0....  \n",
       "1  [0.041044563, 0.05344586, 0.017541107, 0.07421...  "
      ]
     },
     "execution_count": 68,
     "metadata": {},
     "output_type": "execute_result"
    }
   ],
   "source": [
    "df.head(2)"
   ]
  },
  {
   "cell_type": "code",
   "execution_count": 69,
   "metadata": {},
   "outputs": [
    {
     "data": {
      "text/plain": [
       "0    [-0.0070151784, 0.0033397812, -0.018809972, 0....\n",
       "1    [0.041044563, 0.05344586, 0.017541107, 0.07421...\n",
       "2    [-0.01417845, 0.00091768993, -0.0012399706, 0....\n",
       "3    [-0.0047708116, 0.0065720384, 0.013290583, -0....\n",
       "4    [0.025648113, 0.044721454, 0.010994425, -0.055...\n",
       "Name: description_vector, dtype: object"
      ]
     },
     "execution_count": 69,
     "metadata": {},
     "output_type": "execute_result"
    }
   ],
   "source": [
    "df.description_vector[:5]"
   ]
  },
  {
   "cell_type": "code",
   "execution_count": 70,
   "metadata": {},
   "outputs": [
    {
     "data": {
      "text/plain": [
       "True"
      ]
     },
     "execution_count": 70,
     "metadata": {},
     "output_type": "execute_result"
    }
   ],
   "source": [
    "es.ping()"
   ]
  },
  {
   "cell_type": "markdown",
   "metadata": {},
   "source": [
    "# Create new index"
   ]
  },
  {
   "cell_type": "code",
   "execution_count": 71,
   "metadata": {},
   "outputs": [],
   "source": [
    "from indexMapping import indexMapping"
   ]
  },
  {
   "cell_type": "code",
   "execution_count": 72,
   "metadata": {},
   "outputs": [
    {
     "data": {
      "text/plain": [
       "ObjectApiResponse({'acknowledged': True, 'shards_acknowledged': True, 'index': 'all_documents'})"
      ]
     },
     "execution_count": 72,
     "metadata": {},
     "output_type": "execute_result"
    }
   ],
   "source": [
    "es.indices.create(index=\"all_documents\", mappings= indexMapping)"
   ]
  },
  {
   "cell_type": "code",
   "execution_count": 73,
   "metadata": {},
   "outputs": [],
   "source": [
    "records_list = df.to_dict(\"records\")"
   ]
  },
  {
   "cell_type": "code",
   "execution_count": 74,
   "metadata": {},
   "outputs": [],
   "source": [
    "for record in records_list:\n",
    "    try:\n",
    "        es.index(index=\"all_documents\", document=record)\n",
    "    except Exception as e:\n",
    "        print(e)"
   ]
  },
  {
   "cell_type": "code",
   "execution_count": 75,
   "metadata": {},
   "outputs": [
    {
     "data": {
      "text/plain": [
       "ObjectApiResponse({'count': 53, '_shards': {'total': 1, 'successful': 1, 'skipped': 0, 'failed': 0}})"
      ]
     },
     "execution_count": 75,
     "metadata": {},
     "output_type": "execute_result"
    }
   ],
   "source": [
    "es.count(index=\"all_documents\")"
   ]
  },
  {
   "cell_type": "markdown",
   "metadata": {},
   "source": [
    "# Searching documents:"
   ]
  },
  {
   "cell_type": "code",
   "execution_count": null,
   "metadata": {},
   "outputs": [],
   "source": []
  },
  {
   "cell_type": "code",
   "execution_count": 78,
   "metadata": {
    "scrolled": true
   },
   "outputs": [
    {
     "name": "stdout",
     "output_type": "stream",
     "text": [
      "Document score: 0.51011306\n",
      "Document Title: Magnets, sound, and batteries: Choosing safe toys\n",
      "Document Text: If you're choosing gifts to give or donate to children this year, be sure safety is on the list. Here are tips for toys to consider — those that encourage creativity, imagination, and movement  — and toys to try to avoid, due to safety concerns or for other reasons.\n",
      "__________________________________________________\n",
      "Document score: 0.4094914\n",
      "Document Title: Treating erectile dysfunction with penile implants\n",
      "Document Text: Penile implants, an option patients with erectile dysfunction probably hear little about, might offer a lasting and satisfying “cure.” Abraham Morgentaler, M.D., director of Men’s Health Boston, explains how.\n",
      "__________________________________________________\n",
      "Document score: 0.38130474\n",
      "Document Title: Kidneys, eyes, ears, and more: Why do we have a spare?\n",
      "Document Text: The human body has excess capacity — that is, our organs have more reserve than most of us will ever need. Why are we built with this natural redundancy? And which body parts can safely fail or be removed without impairing health?\n",
      "__________________________________________________\n",
      "Document score: 0.36756715\n",
      "Document Title: 7 organs or glands you may do just fine without\n",
      "Document Text: Removing tonsils in childhood was once routine care for healthy children, but is no longer recommended. Why are some organs and glands — appendix, tonsils, adenoids and more — considered expendable and why do we have them if they're not needed?\n",
      "__________________________________________________\n",
      "Document score: 0.3614862\n",
      "Document Title: No-cost, low-cost, and bigger splurges for climate-conscious gifts\n",
      "Document Text: If you're looking for gifts to give or donate, climate-conscious gifts come in many guises and fit no-cost, low-cost, or big budgets. Gifts can directly support the environment, trim waste and fossil fuel use, or offer creative ways to connect, reuse, recyle — and possibly regift.\n",
      "__________________________________________________\n"
     ]
    },
    {
     "name": "stderr",
     "output_type": "stream",
     "text": [
      "C:\\Users\\Honor\\AppData\\Local\\Temp\\ipykernel_24964\\597839830.py:11: ElasticsearchWarning: The kNN search API has been replaced by the `knn` option in the search API.\n",
      "  res = es.knn_search(index=\"all_documents\", knn=query, source=[\"Title\",\"Field\", \"Image\"])\n"
     ]
    },
    {
     "data": {
      "text/plain": [
       "[{'_index': 'all_documents',\n",
       "  '_id': '4kuKlowBIhxR8BoTFHbN',\n",
       "  '_score': 0.51011306,\n",
       "  '_ignored': ['Field.keyword'],\n",
       "  '_source': {'Title': 'Magnets, sound, and batteries: Choosing safe toys',\n",
       "   'Image': 'https://domf5oio6qrcr.cloudfront.net/medialibrary/10369/GettyImages-853938328.jpg',\n",
       "   'Field': \"If you're choosing gifts to give or donate to children this year, be sure safety is on the list. Here are tips for toys to consider — those that encourage creativity, imagination, and movement\\xa0 — and toys to try to avoid, due to safety concerns or for other reasons.\"}},\n",
       " {'_index': 'all_documents',\n",
       "  '_id': 'GkuKlowBIhxR8BoTKXfJ',\n",
       "  '_score': 0.4094914,\n",
       "  '_source': {'Title': 'Treating erectile dysfunction with penile implants',\n",
       "   'Image': 'https://www.health.harvard.edu/img/misc/image-placeholder.svg',\n",
       "   'Field': 'Penile implants, an option patients with erectile dysfunction probably hear little about, might offer a lasting and satisfying “cure.” Abraham Morgentaler, M.D., director of Men’s Health Boston, explains how.'}},\n",
       " {'_index': 'all_documents',\n",
       "  '_id': '-EuKlowBIhxR8BoTH3b2',\n",
       "  '_score': 0.38130474,\n",
       "  '_source': {'Title': 'Kidneys, eyes, ears, and more: Why do we have a spare?',\n",
       "   'Image': 'https://domf5oio6qrcr.cloudfront.net/medialibrary/14408/d3100b0d-d33e-4db5-9ad8-47cd57c9593a.jpg',\n",
       "   'Field': 'The human body has excess capacity — that is, our organs have more reserve than most of us will ever need. Why are we built with this natural redundancy? And which body parts can safely fail or be removed without impairing health?'}},\n",
       " {'_index': 'all_documents',\n",
       "  '_id': 'A0uKlowBIhxR8BoTIne5',\n",
       "  '_score': 0.36756715,\n",
       "  '_source': {'Title': '7 organs or glands you may do just fine without',\n",
       "   'Image': 'https://domf5oio6qrcr.cloudfront.net/medialibrary/14293/1cc0aa3d-bfb4-4b3a-90e1-e05f1885967c.jpg',\n",
       "   'Field': \"Removing tonsils in childhood was once routine care for healthy children, but is no longer recommended. Why are some organs and glands — appendix, tonsils, adenoids and more — considered expendable and why do we have them if they're not needed?\"}},\n",
       " {'_index': 'all_documents',\n",
       "  '_id': '40uKlowBIhxR8BoTGXZm',\n",
       "  '_score': 0.3614862,\n",
       "  '_ignored': ['Field.keyword'],\n",
       "  '_source': {'Title': 'No-cost, low-cost, and bigger splurges for climate-conscious gifts',\n",
       "   'Image': 'https://domf5oio6qrcr.cloudfront.net/medialibrary/14608/656030da-4629-4b85-9c3b-6ec6744cd100.jpg',\n",
       "   'Field': \"If you're looking for gifts to give or donate, climate-conscious gifts come in many guises and fit no-cost, low-cost, or big budgets. Gifts can directly support the environment, trim waste and fossil fuel use, or offer creative ways to connect, reuse, recyle — and possibly regift.\"}}]"
      ]
     },
     "execution_count": 78,
     "metadata": {},
     "output_type": "execute_result"
    }
   ],
   "source": [
    "user_input = \"toys\"\n",
    "vector_input = model.encode(user_input)\n",
    "\n",
    "query = {\n",
    "    \"field\": \"description_vector\",\n",
    "    \"query_vector\": vector_input,\n",
    "    \"k\":5,\n",
    "    \"num_candidates\": 60,\n",
    "}\n",
    "\n",
    "res = es.knn_search(index=\"all_documents\", knn=query, source=[\"Title\",\"Field\", \"Image\"])\n",
    "\n",
    "results = res[\"hits\"][\"hits\"]\n",
    "\n",
    "for result in results:\n",
    "    if \"_source\" in result:\n",
    "        try:\n",
    "            print(f\"Document score: {result['_score']}\")\n",
    "            print(f\"Document Title: {result['_source']['Title']}\")\n",
    "            print(f\"Document Text: {result['_source']['Field']}\")\n",
    "            print(50*\"_\")\n",
    "        except Exception as e:\n",
    "            print(e)\n",
    "    \n",
    "\n",
    "results\n",
    "# relevants_docs\n",
    "# score = res[\"hits\"][:max_score]\n",
    "# score"
   ]
  },
  {
   "cell_type": "code",
   "execution_count": null,
   "metadata": {},
   "outputs": [],
   "source": []
  }
 ],
 "metadata": {
  "kernelspec": {
   "display_name": "Python 3 (ipykernel)",
   "language": "python",
   "name": "python3"
  },
  "language_info": {
   "codemirror_mode": {
    "name": "ipython",
    "version": 3
   },
   "file_extension": ".py",
   "mimetype": "text/x-python",
   "name": "python",
   "nbconvert_exporter": "python",
   "pygments_lexer": "ipython3",
   "version": "3.9.13"
  }
 },
 "nbformat": 4,
 "nbformat_minor": 2
}
