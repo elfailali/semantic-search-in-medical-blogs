{
 "cells": [
  {
   "cell_type": "code",
   "execution_count": 76,
   "metadata": {},
   "outputs": [
    {
     "name": "stdout",
     "output_type": "stream",
     "text": [
      "Requirement already satisfied: elasticsearch in c:\\users\\honor\\anaconda3\\lib\\site-packages (8.11.0)\n",
      "Requirement already satisfied: elastic-transport<9,>=8 in c:\\users\\honor\\anaconda3\\lib\\site-packages (from elasticsearch) (8.10.0)\n",
      "Requirement already satisfied: urllib3<3,>=1.26.2 in c:\\users\\honor\\anaconda3\\lib\\site-packages (from elastic-transport<9,>=8->elasticsearch) (1.26.11)\n",
      "Requirement already satisfied: certifi in c:\\users\\honor\\appdata\\roaming\\python\\python39\\site-packages (from elastic-transport<9,>=8->elasticsearch) (2022.12.7)\n"
     ]
    }
   ],
   "source": [
    "!pip install elasticsearch"
   ]
  },
  {
   "cell_type": "code",
   "execution_count": 1,
   "metadata": {},
   "outputs": [
    {
     "name": "stderr",
     "output_type": "stream",
     "text": [
      "C:\\Users\\Honor\\anaconda3\\lib\\site-packages\\numpy\\_distributor_init.py:30: UserWarning: loaded more than 1 DLL from .libs:\n",
      "C:\\Users\\Honor\\anaconda3\\lib\\site-packages\\numpy\\.libs\\libopenblas.FB5AE2TYXYH2IJRDKGDGQ3XBKLKTF43H.gfortran-win_amd64.dll\n",
      "C:\\Users\\Honor\\anaconda3\\lib\\site-packages\\numpy\\.libs\\libopenblas64__v0.3.21-gcc_10_3_0.dll\n",
      "  warnings.warn(\"loaded more than 1 DLL from .libs:\"\n"
     ]
    }
   ],
   "source": [
    "import pandas as pd\n",
    "from elasticsearch import Elasticsearch"
   ]
  },
  {
   "cell_type": "code",
   "execution_count": 2,
   "metadata": {},
   "outputs": [],
   "source": [
    "es = Elasticsearch('http://localhost:9200/')"
   ]
  },
  {
   "cell_type": "code",
   "execution_count": 3,
   "metadata": {},
   "outputs": [
    {
     "data": {
      "text/plain": [
       "True"
      ]
     },
     "execution_count": 3,
     "metadata": {},
     "output_type": "execute_result"
    }
   ],
   "source": [
    "es.ping()"
   ]
  },
  {
   "cell_type": "code",
   "execution_count": 4,
   "metadata": {},
   "outputs": [],
   "source": [
    "import tensorflow"
   ]
  },
  {
   "cell_type": "code",
   "execution_count": 5,
   "metadata": {},
   "outputs": [
    {
     "name": "stdout",
     "output_type": "stream",
     "text": [
      "Name: Pillow\n",
      "Version: 10.0.1\n",
      "Summary: Python Imaging Library (Fork)\n",
      "Home-page: https://python-pillow.org\n",
      "Author: Jeffrey A. Clark (Alex)\n",
      "Author-email: aclark@aclark.net\n",
      "License: HPND\n",
      "Location: c:\\users\\honor\\anaconda3\\lib\\site-packages\n",
      "Requires: \n",
      "Required-by: bokeh, datashader, imageio, matplotlib, pdfplumber, pytesseract, roboflow, scikit-image, supervision, torchvision, ultralytics\n",
      "Note: you may need to restart the kernel to use updated packages.\n"
     ]
    }
   ],
   "source": [
    "pip show Pillow\n"
   ]
  },
  {
   "cell_type": "code",
   "execution_count": 6,
   "metadata": {},
   "outputs": [
    {
     "name": "stdout",
     "output_type": "stream",
     "text": [
      "Name: elasticsearch\n",
      "Version: 8.11.0\n",
      "Summary: Python client for Elasticsearch\n",
      "Home-page: https://github.com/elastic/elasticsearch-py\n",
      "Author: Elastic Client Library Maintainers\n",
      "Author-email: client-libs@elastic.co\n",
      "License: Apache-2.0\n",
      "Location: c:\\users\\honor\\anaconda3\\lib\\site-packages\n",
      "Requires: elastic-transport\n",
      "Required-by: \n",
      "Note: you may need to restart the kernel to use updated packages.\n"
     ]
    }
   ],
   "source": [
    "pip show elasticsearch"
   ]
  },
  {
   "cell_type": "markdown",
   "metadata": {},
   "source": [
    "# Prepare the data"
   ]
  },
  {
   "cell_type": "code",
   "execution_count": 8,
   "metadata": {},
   "outputs": [],
   "source": [
    "df = pd.read_json(\"../data/HarvardHealthBlog/Harvard Health Blog - Live a Healthier Lifestyle - Harvard Health page 1.json\").loc[:100]"
   ]
  },
  {
   "cell_type": "code",
   "execution_count": null,
   "metadata": {},
   "outputs": [],
   "source": [
    "# df_pm = pd.read_csv(\"data/Pubmed_200k_RCT/train.csv\").loc[:100]"
   ]
  },
  {
   "cell_type": "code",
   "execution_count": 60,
   "metadata": {
    "scrolled": true
   },
   "outputs": [
    {
     "data": {
      "text/html": [
       "<div>\n",
       "<style scoped>\n",
       "    .dataframe tbody tr th:only-of-type {\n",
       "        vertical-align: middle;\n",
       "    }\n",
       "\n",
       "    .dataframe tbody tr th {\n",
       "        vertical-align: top;\n",
       "    }\n",
       "\n",
       "    .dataframe thead th {\n",
       "        text-align: right;\n",
       "    }\n",
       "</style>\n",
       "<table border=\"1\" class=\"dataframe\">\n",
       "  <thead>\n",
       "    <tr style=\"text-align: right;\">\n",
       "      <th></th>\n",
       "      <th>Title</th>\n",
       "      <th>Title_URL</th>\n",
       "      <th>Image</th>\n",
       "      <th>fontbold_URL</th>\n",
       "      <th>fontbold</th>\n",
       "      <th>block</th>\n",
       "      <th>Field</th>\n",
       "      <th>description_vector</th>\n",
       "    </tr>\n",
       "  </thead>\n",
       "  <tbody>\n",
       "    <tr>\n",
       "      <th>0</th>\n",
       "      <td>Magnets, sound, and batteries: Choosing safe toys</td>\n",
       "      <td>https://www.health.harvard.edu/blog/magnets-so...</td>\n",
       "      <td>https://domf5oio6qrcr.cloudfront.net/medialibr...</td>\n",
       "      <td>https://www.health.harvard.edu/topics/child-an...</td>\n",
       "      <td>Child &amp; Teen Health</td>\n",
       "      <td>\\n            Updated December 13, 2023\\n</td>\n",
       "      <td>If you're choosing gifts to give or donate to ...</td>\n",
       "      <td>[-0.0070151784, 0.0033397812, -0.018809972, 0....</td>\n",
       "    </tr>\n",
       "    <tr>\n",
       "      <th>1</th>\n",
       "      <td>No-cost, low-cost, and bigger splurges for cli...</td>\n",
       "      <td>https://www.health.harvard.edu/blog/no-cost-lo...</td>\n",
       "      <td>https://domf5oio6qrcr.cloudfront.net/medialibr...</td>\n",
       "      <td>https://www.health.harvard.edu/topics/staying-...</td>\n",
       "      <td>Staying Healthy</td>\n",
       "      <td>\\n            Published December 11, 2023\\n</td>\n",
       "      <td>If you're looking for gifts to give or donate,...</td>\n",
       "      <td>[0.041044563, 0.05344586, 0.017541107, 0.07421...</td>\n",
       "    </tr>\n",
       "    <tr>\n",
       "      <th>2</th>\n",
       "      <td>What to do if you think your child has the flu</td>\n",
       "      <td>https://www.health.harvard.edu/blog/what-to-do...</td>\n",
       "      <td>https://domf5oio6qrcr.cloudfront.net/medialibr...</td>\n",
       "      <td>https://www.health.harvard.edu/topics/child-an...</td>\n",
       "      <td>Child &amp; Teen Health</td>\n",
       "      <td>\\n            Updated September 12, 2023\\n</td>\n",
       "      <td>If you hear your child start coughing, it's na...</td>\n",
       "      <td>[-0.01417845, 0.00091768993, -0.0012399706, 0....</td>\n",
       "    </tr>\n",
       "    <tr>\n",
       "      <th>3</th>\n",
       "      <td>When should you hire in-home help or health ai...</td>\n",
       "      <td>https://www.health.harvard.edu/blog/when-shoul...</td>\n",
       "      <td>https://domf5oio6qrcr.cloudfront.net/medialibr...</td>\n",
       "      <td>https://www.health.harvard.edu/topics/staying-...</td>\n",
       "      <td>Staying Healthy</td>\n",
       "      <td>\\n            Published December 6, 2023\\n</td>\n",
       "      <td>Most people want to live at home for as long a...</td>\n",
       "      <td>[-0.0047708116, 0.0065720384, 0.013290583, -0....</td>\n",
       "    </tr>\n",
       "    <tr>\n",
       "      <th>4</th>\n",
       "      <td>Small pets are delightful, but some carry dang...</td>\n",
       "      <td>https://www.health.harvard.edu/blog/small-pets...</td>\n",
       "      <td>https://domf5oio6qrcr.cloudfront.net/medialibr...</td>\n",
       "      <td>https://www.health.harvard.edu/topics/staying-...</td>\n",
       "      <td>Staying Healthy</td>\n",
       "      <td>\\n            Published December 4, 2023\\n</td>\n",
       "      <td>Small animals like turtles, iguanas, and frogs...</td>\n",
       "      <td>[0.025648113, 0.044721454, 0.010994425, -0.055...</td>\n",
       "    </tr>\n",
       "  </tbody>\n",
       "</table>\n",
       "</div>"
      ],
      "text/plain": [
       "                                               Title  \\\n",
       "0  Magnets, sound, and batteries: Choosing safe toys   \n",
       "1  No-cost, low-cost, and bigger splurges for cli...   \n",
       "2     What to do if you think your child has the flu   \n",
       "3  When should you hire in-home help or health ai...   \n",
       "4  Small pets are delightful, but some carry dang...   \n",
       "\n",
       "                                           Title_URL  \\\n",
       "0  https://www.health.harvard.edu/blog/magnets-so...   \n",
       "1  https://www.health.harvard.edu/blog/no-cost-lo...   \n",
       "2  https://www.health.harvard.edu/blog/what-to-do...   \n",
       "3  https://www.health.harvard.edu/blog/when-shoul...   \n",
       "4  https://www.health.harvard.edu/blog/small-pets...   \n",
       "\n",
       "                                               Image  \\\n",
       "0  https://domf5oio6qrcr.cloudfront.net/medialibr...   \n",
       "1  https://domf5oio6qrcr.cloudfront.net/medialibr...   \n",
       "2  https://domf5oio6qrcr.cloudfront.net/medialibr...   \n",
       "3  https://domf5oio6qrcr.cloudfront.net/medialibr...   \n",
       "4  https://domf5oio6qrcr.cloudfront.net/medialibr...   \n",
       "\n",
       "                                        fontbold_URL             fontbold  \\\n",
       "0  https://www.health.harvard.edu/topics/child-an...  Child & Teen Health   \n",
       "1  https://www.health.harvard.edu/topics/staying-...      Staying Healthy   \n",
       "2  https://www.health.harvard.edu/topics/child-an...  Child & Teen Health   \n",
       "3  https://www.health.harvard.edu/topics/staying-...      Staying Healthy   \n",
       "4  https://www.health.harvard.edu/topics/staying-...      Staying Healthy   \n",
       "\n",
       "                                             block  \\\n",
       "0    \\n            Updated December 13, 2023\\n       \n",
       "1  \\n            Published December 11, 2023\\n       \n",
       "2   \\n            Updated September 12, 2023\\n       \n",
       "3   \\n            Published December 6, 2023\\n       \n",
       "4   \\n            Published December 4, 2023\\n       \n",
       "\n",
       "                                               Field  \\\n",
       "0  If you're choosing gifts to give or donate to ...   \n",
       "1  If you're looking for gifts to give or donate,...   \n",
       "2  If you hear your child start coughing, it's na...   \n",
       "3  Most people want to live at home for as long a...   \n",
       "4  Small animals like turtles, iguanas, and frogs...   \n",
       "\n",
       "                                  description_vector  \n",
       "0  [-0.0070151784, 0.0033397812, -0.018809972, 0....  \n",
       "1  [0.041044563, 0.05344586, 0.017541107, 0.07421...  \n",
       "2  [-0.01417845, 0.00091768993, -0.0012399706, 0....  \n",
       "3  [-0.0047708116, 0.0065720384, 0.013290583, -0....  \n",
       "4  [0.025648113, 0.044721454, 0.010994425, -0.055...  "
      ]
     },
     "execution_count": 60,
     "metadata": {},
     "output_type": "execute_result"
    }
   ],
   "source": [
    "df.head()"
   ]
  },
  {
   "cell_type": "code",
   "execution_count": 13,
   "metadata": {},
   "outputs": [
    {
     "data": {
      "text/plain": [
       "'Magnets, sound, and batteries: Choosing safe toys'"
      ]
     },
     "execution_count": 13,
     "metadata": {},
     "output_type": "execute_result"
    }
   ],
   "source": [
    "df.Title[0]"
   ]
  },
  {
   "cell_type": "code",
   "execution_count": null,
   "metadata": {},
   "outputs": [],
   "source": []
  },
  {
   "cell_type": "code",
   "execution_count": 61,
   "metadata": {},
   "outputs": [
    {
     "data": {
      "text/plain": [
       "0"
      ]
     },
     "execution_count": 61,
     "metadata": {},
     "output_type": "execute_result"
    }
   ],
   "source": [
    "df.isna().sum().sum()"
   ]
  },
  {
   "cell_type": "code",
   "execution_count": null,
   "metadata": {},
   "outputs": [],
   "source": []
  },
  {
   "cell_type": "markdown",
   "metadata": {},
   "source": [
    "# Convert text to Vector using S-BERT Model"
   ]
  },
  {
   "cell_type": "code",
   "execution_count": 62,
   "metadata": {},
   "outputs": [],
   "source": [
    "from tqdm import tqdm\n",
    "tqdm.pandas()\n"
   ]
  },
  {
   "cell_type": "code",
   "execution_count": 63,
   "metadata": {},
   "outputs": [],
   "source": [
    "from sentence_transformers import SentenceTransformer"
   ]
  },
  {
   "cell_type": "code",
   "execution_count": 64,
   "metadata": {},
   "outputs": [],
   "source": [
    "model = SentenceTransformer('all-mpnet-base-v2')"
   ]
  },
  {
   "cell_type": "code",
   "execution_count": 65,
   "metadata": {},
   "outputs": [
    {
     "name": "stderr",
     "output_type": "stream",
     "text": [
      "100%|██████████████████████████████████████████████████████████████████████████████████| 60/60 [00:17<00:00,  3.42it/s]\n"
     ]
    }
   ],
   "source": [
    "df[\"description_vector\"] = df[\"Field\"].progress_apply(lambda x: model.encode(x))"
   ]
  },
  {
   "cell_type": "code",
   "execution_count": 66,
   "metadata": {},
   "outputs": [
    {
     "data": {
      "text/html": [
       "<div>\n",
       "<style scoped>\n",
       "    .dataframe tbody tr th:only-of-type {\n",
       "        vertical-align: middle;\n",
       "    }\n",
       "\n",
       "    .dataframe tbody tr th {\n",
       "        vertical-align: top;\n",
       "    }\n",
       "\n",
       "    .dataframe thead th {\n",
       "        text-align: right;\n",
       "    }\n",
       "</style>\n",
       "<table border=\"1\" class=\"dataframe\">\n",
       "  <thead>\n",
       "    <tr style=\"text-align: right;\">\n",
       "      <th></th>\n",
       "      <th>Title</th>\n",
       "      <th>Title_URL</th>\n",
       "      <th>Image</th>\n",
       "      <th>fontbold_URL</th>\n",
       "      <th>fontbold</th>\n",
       "      <th>block</th>\n",
       "      <th>Field</th>\n",
       "      <th>description_vector</th>\n",
       "    </tr>\n",
       "  </thead>\n",
       "  <tbody>\n",
       "    <tr>\n",
       "      <th>0</th>\n",
       "      <td>Magnets, sound, and batteries: Choosing safe toys</td>\n",
       "      <td>https://www.health.harvard.edu/blog/magnets-so...</td>\n",
       "      <td>https://domf5oio6qrcr.cloudfront.net/medialibr...</td>\n",
       "      <td>https://www.health.harvard.edu/topics/child-an...</td>\n",
       "      <td>Child &amp; Teen Health</td>\n",
       "      <td>\\n            Updated December 13, 2023\\n</td>\n",
       "      <td>If you're choosing gifts to give or donate to ...</td>\n",
       "      <td>[-0.0070151784, 0.0033397812, -0.018809972, 0....</td>\n",
       "    </tr>\n",
       "    <tr>\n",
       "      <th>1</th>\n",
       "      <td>No-cost, low-cost, and bigger splurges for cli...</td>\n",
       "      <td>https://www.health.harvard.edu/blog/no-cost-lo...</td>\n",
       "      <td>https://domf5oio6qrcr.cloudfront.net/medialibr...</td>\n",
       "      <td>https://www.health.harvard.edu/topics/staying-...</td>\n",
       "      <td>Staying Healthy</td>\n",
       "      <td>\\n            Published December 11, 2023\\n</td>\n",
       "      <td>If you're looking for gifts to give or donate,...</td>\n",
       "      <td>[0.041044563, 0.05344586, 0.017541107, 0.07421...</td>\n",
       "    </tr>\n",
       "    <tr>\n",
       "      <th>2</th>\n",
       "      <td>What to do if you think your child has the flu</td>\n",
       "      <td>https://www.health.harvard.edu/blog/what-to-do...</td>\n",
       "      <td>https://domf5oio6qrcr.cloudfront.net/medialibr...</td>\n",
       "      <td>https://www.health.harvard.edu/topics/child-an...</td>\n",
       "      <td>Child &amp; Teen Health</td>\n",
       "      <td>\\n            Updated September 12, 2023\\n</td>\n",
       "      <td>If you hear your child start coughing, it's na...</td>\n",
       "      <td>[-0.01417845, 0.00091768993, -0.0012399706, 0....</td>\n",
       "    </tr>\n",
       "    <tr>\n",
       "      <th>3</th>\n",
       "      <td>When should you hire in-home help or health ai...</td>\n",
       "      <td>https://www.health.harvard.edu/blog/when-shoul...</td>\n",
       "      <td>https://domf5oio6qrcr.cloudfront.net/medialibr...</td>\n",
       "      <td>https://www.health.harvard.edu/topics/staying-...</td>\n",
       "      <td>Staying Healthy</td>\n",
       "      <td>\\n            Published December 6, 2023\\n</td>\n",
       "      <td>Most people want to live at home for as long a...</td>\n",
       "      <td>[-0.0047708116, 0.0065720384, 0.013290583, -0....</td>\n",
       "    </tr>\n",
       "    <tr>\n",
       "      <th>4</th>\n",
       "      <td>Small pets are delightful, but some carry dang...</td>\n",
       "      <td>https://www.health.harvard.edu/blog/small-pets...</td>\n",
       "      <td>https://domf5oio6qrcr.cloudfront.net/medialibr...</td>\n",
       "      <td>https://www.health.harvard.edu/topics/staying-...</td>\n",
       "      <td>Staying Healthy</td>\n",
       "      <td>\\n            Published December 4, 2023\\n</td>\n",
       "      <td>Small animals like turtles, iguanas, and frogs...</td>\n",
       "      <td>[0.025648113, 0.044721454, 0.010994425, -0.055...</td>\n",
       "    </tr>\n",
       "  </tbody>\n",
       "</table>\n",
       "</div>"
      ],
      "text/plain": [
       "                                               Title  \\\n",
       "0  Magnets, sound, and batteries: Choosing safe toys   \n",
       "1  No-cost, low-cost, and bigger splurges for cli...   \n",
       "2     What to do if you think your child has the flu   \n",
       "3  When should you hire in-home help or health ai...   \n",
       "4  Small pets are delightful, but some carry dang...   \n",
       "\n",
       "                                           Title_URL  \\\n",
       "0  https://www.health.harvard.edu/blog/magnets-so...   \n",
       "1  https://www.health.harvard.edu/blog/no-cost-lo...   \n",
       "2  https://www.health.harvard.edu/blog/what-to-do...   \n",
       "3  https://www.health.harvard.edu/blog/when-shoul...   \n",
       "4  https://www.health.harvard.edu/blog/small-pets...   \n",
       "\n",
       "                                               Image  \\\n",
       "0  https://domf5oio6qrcr.cloudfront.net/medialibr...   \n",
       "1  https://domf5oio6qrcr.cloudfront.net/medialibr...   \n",
       "2  https://domf5oio6qrcr.cloudfront.net/medialibr...   \n",
       "3  https://domf5oio6qrcr.cloudfront.net/medialibr...   \n",
       "4  https://domf5oio6qrcr.cloudfront.net/medialibr...   \n",
       "\n",
       "                                        fontbold_URL             fontbold  \\\n",
       "0  https://www.health.harvard.edu/topics/child-an...  Child & Teen Health   \n",
       "1  https://www.health.harvard.edu/topics/staying-...      Staying Healthy   \n",
       "2  https://www.health.harvard.edu/topics/child-an...  Child & Teen Health   \n",
       "3  https://www.health.harvard.edu/topics/staying-...      Staying Healthy   \n",
       "4  https://www.health.harvard.edu/topics/staying-...      Staying Healthy   \n",
       "\n",
       "                                             block  \\\n",
       "0    \\n            Updated December 13, 2023\\n       \n",
       "1  \\n            Published December 11, 2023\\n       \n",
       "2   \\n            Updated September 12, 2023\\n       \n",
       "3   \\n            Published December 6, 2023\\n       \n",
       "4   \\n            Published December 4, 2023\\n       \n",
       "\n",
       "                                               Field  \\\n",
       "0  If you're choosing gifts to give or donate to ...   \n",
       "1  If you're looking for gifts to give or donate,...   \n",
       "2  If you hear your child start coughing, it's na...   \n",
       "3  Most people want to live at home for as long a...   \n",
       "4  Small animals like turtles, iguanas, and frogs...   \n",
       "\n",
       "                                  description_vector  \n",
       "0  [-0.0070151784, 0.0033397812, -0.018809972, 0....  \n",
       "1  [0.041044563, 0.05344586, 0.017541107, 0.07421...  \n",
       "2  [-0.01417845, 0.00091768993, -0.0012399706, 0....  \n",
       "3  [-0.0047708116, 0.0065720384, 0.013290583, -0....  \n",
       "4  [0.025648113, 0.044721454, 0.010994425, -0.055...  "
      ]
     },
     "execution_count": 66,
     "metadata": {},
     "output_type": "execute_result"
    }
   ],
   "source": [
    "df.head()"
   ]
  },
  {
   "cell_type": "code",
   "execution_count": 67,
   "metadata": {},
   "outputs": [
    {
     "data": {
      "text/plain": [
       "True"
      ]
     },
     "execution_count": 67,
     "metadata": {},
     "output_type": "execute_result"
    }
   ],
   "source": [
    "es.ping()"
   ]
  },
  {
   "cell_type": "markdown",
   "metadata": {},
   "source": [
    "# Create new index"
   ]
  },
  {
   "cell_type": "code",
   "execution_count": 68,
   "metadata": {},
   "outputs": [],
   "source": [
    "from indexMapping import indexMapping"
   ]
  },
  {
   "cell_type": "code",
   "execution_count": 69,
   "metadata": {},
   "outputs": [
    {
     "data": {
      "text/plain": [
       "ObjectApiResponse({'acknowledged': True, 'shards_acknowledged': True, 'index': 'all_documents'})"
      ]
     },
     "execution_count": 69,
     "metadata": {},
     "output_type": "execute_result"
    }
   ],
   "source": [
    "es.indices.create(index=\"all_documents\", mappings= indexMapping)"
   ]
  },
  {
   "cell_type": "code",
   "execution_count": null,
   "metadata": {},
   "outputs": [],
   "source": []
  },
  {
   "cell_type": "code",
   "execution_count": 70,
   "metadata": {},
   "outputs": [],
   "source": [
    "records_list = df.to_dict(\"records\")"
   ]
  },
  {
   "cell_type": "code",
   "execution_count": 73,
   "metadata": {},
   "outputs": [],
   "source": [
    "for record in records_list:\n",
    "    try:\n",
    "        es.index(index=\"all_documents\", document=record)\n",
    "    except Exception as e:\n",
    "        print(e)"
   ]
  },
  {
   "cell_type": "code",
   "execution_count": 74,
   "metadata": {},
   "outputs": [
    {
     "data": {
      "text/plain": [
       "ObjectApiResponse({'count': 58, '_shards': {'total': 1, 'successful': 1, 'skipped': 0, 'failed': 0}})"
      ]
     },
     "execution_count": 74,
     "metadata": {},
     "output_type": "execute_result"
    }
   ],
   "source": [
    "es.count(index=\"all_documents\")"
   ]
  },
  {
   "cell_type": "markdown",
   "metadata": {},
   "source": [
    "# Searching documents:"
   ]
  },
  {
   "cell_type": "code",
   "execution_count": 86,
   "metadata": {},
   "outputs": [
    {
     "name": "stdout",
     "output_type": "stream",
     "text": [
      "Document score: 0.51011306\n",
      "Document Title: Magnets, sound, and batteries: Choosing safe toys\n",
      "Document Text: If you're choosing gifts to give or donate to children this year, be sure safety is on the list. Here are tips for toys to consider — those that encourage creativity, imagination, and movement  — and toys to try to avoid, due to safety concerns or for other reasons.\n",
      "__________________________________________________\n",
      "Document score: 0.4094914\n",
      "Document Title: Treating erectile dysfunction with penile implants\n",
      "Document Text: Penile implants, an option patients with erectile dysfunction probably hear little about, might offer a lasting and satisfying “cure.” Abraham Morgentaler, M.D., director of Men’s Health Boston, explains how.\n",
      "__________________________________________________\n",
      "Document score: 0.38130474\n",
      "Document Title: Kidneys, eyes, ears, and more: Why do we have a spare?\n",
      "Document Text: The human body has excess capacity — that is, our organs have more reserve than most of us will ever need. Why are we built with this natural redundancy? And which body parts can safely fail or be removed without impairing health?\n",
      "__________________________________________________\n",
      "Document score: 0.36756715\n",
      "Document Title: 7 organs or glands you may do just fine without\n",
      "Document Text: Removing tonsils in childhood was once routine care for healthy children, but is no longer recommended. Why are some organs and glands — appendix, tonsils, adenoids and more — considered expendable and why do we have them if they're not needed?\n",
      "__________________________________________________\n",
      "Document score: 0.3614862\n",
      "Document Title: No-cost, low-cost, and bigger splurges for climate-conscious gifts\n",
      "Document Text: If you're looking for gifts to give or donate, climate-conscious gifts come in many guises and fit no-cost, low-cost, or big budgets. Gifts can directly support the environment, trim waste and fossil fuel use, or offer creative ways to connect, reuse, recyle — and possibly regift.\n",
      "__________________________________________________\n"
     ]
    },
    {
     "name": "stderr",
     "output_type": "stream",
     "text": [
      "C:\\Users\\Honor\\AppData\\Local\\Temp\\ipykernel_16744\\1704607652.py:11: ElasticsearchWarning: The kNN search API has been replaced by the `knn` option in the search API.\n",
      "  res = es.knn_search(index=\"all_documents\", knn=query, source=[\"Title\",\"Field\", \"Image\"])\n"
     ]
    },
    {
     "data": {
      "text/plain": [
       "ObjectApiResponse({'took': 275, 'timed_out': False, '_shards': {'total': 1, 'successful': 1, 'skipped': 0, 'failed': 0}, 'hits': {'total': {'value': 60, 'relation': 'eq'}, 'max_score': 0.51011306, 'hits': [{'_index': 'all_documents', '_id': 'vIZya4wBwZ9qtgduzAPF', '_score': 0.51011306, '_ignored': ['Field.keyword'], '_source': {'Title': 'Magnets, sound, and batteries: Choosing safe toys', 'Image': 'https://domf5oio6qrcr.cloudfront.net/medialibrary/10369/GettyImages-853938328.jpg', 'Field': \"If you're choosing gifts to give or donate to children this year, be sure safety is on the list. Here are tips for toys to consider — those that encourage creativity, imagination, and movement\\xa0 — and toys to try to avoid, due to safety concerns or for other reasons.\"}}, {'_index': 'all_documents', '_id': '9IZya4wBwZ9qtgdu4AMx', '_score': 0.4094914, '_source': {'Title': 'Treating erectile dysfunction with penile implants', 'Image': 'https://www.health.harvard.edu/img/misc/image-placeholder.svg', 'Field': 'Penile implants, an option patients with erectile dysfunction probably hear little about, might offer a lasting and satisfying “cure.” Abraham Morgentaler, M.D., director of Men’s Health Boston, explains how.'}}, {'_index': 'all_documents', '_id': '0oZya4wBwZ9qtgdu1gOg', '_score': 0.38130474, '_source': {'Title': 'Kidneys, eyes, ears, and more: Why do we have a spare?', 'Image': 'https://domf5oio6qrcr.cloudfront.net/medialibrary/14408/d3100b0d-d33e-4db5-9ad8-47cd57c9593a.jpg', 'Field': 'The human body has excess capacity — that is, our organs have more reserve than most of us will ever need. Why are we built with this natural redundancy? And which body parts can safely fail or be removed without impairing health?'}}, {'_index': 'all_documents', '_id': '3YZya4wBwZ9qtgdu2QN8', '_score': 0.36756715, '_source': {'Title': '7 organs or glands you may do just fine without', 'Image': 'https://domf5oio6qrcr.cloudfront.net/medialibrary/14293/1cc0aa3d-bfb4-4b3a-90e1-e05f1885967c.jpg', 'Field': \"Removing tonsils in childhood was once routine care for healthy children, but is no longer recommended. Why are some organs and glands — appendix, tonsils, adenoids and more — considered expendable and why do we have them if they're not needed?\"}}, {'_index': 'all_documents', '_id': 'vYZya4wBwZ9qtgduzgMF', '_score': 0.3614862, '_ignored': ['Field.keyword'], '_source': {'Title': 'No-cost, low-cost, and bigger splurges for climate-conscious gifts', 'Image': 'https://domf5oio6qrcr.cloudfront.net/medialibrary/14608/656030da-4629-4b85-9c3b-6ec6744cd100.jpg', 'Field': \"If you're looking for gifts to give or donate, climate-conscious gifts come in many guises and fit no-cost, low-cost, or big budgets. Gifts can directly support the environment, trim waste and fossil fuel use, or offer creative ways to connect, reuse, recyle — and possibly regift.\"}}]}})"
      ]
     },
     "execution_count": 86,
     "metadata": {},
     "output_type": "execute_result"
    }
   ],
   "source": [
    "user_input = \"toys\"\n",
    "vector_input = model.encode(user_input)\n",
    "\n",
    "query = {\n",
    "    \"field\": \"description_vector\",\n",
    "    \"query_vector\": vector_input,\n",
    "    \"k\":5,\n",
    "    \"num_candidates\": 60,\n",
    "}\n",
    "\n",
    "res = es.knn_search(index=\"all_documents\", knn=query, source=[\"Title\",\"Field\", \"Image\"])\n",
    "\n",
    "results = res[\"hits\"][\"hits\"]\n",
    "\n",
    "for result in results:\n",
    "    if \"_source\" in result:\n",
    "        try:\n",
    "            print(f\"Document score: {result['_score']}\")\n",
    "            print(f\"Document Title: {result['_source']['Title']}\")\n",
    "            print(f\"Document Text: {result['_source']['Field']}\")\n",
    "            print(50*\"_\")\n",
    "        except Exception as e:\n",
    "            print(e)\n",
    "    \n",
    "\n",
    "res\n",
    "# relevants_docs\n",
    "# score = res[\"hits\"][:max_score]\n",
    "# score"
   ]
  },
  {
   "cell_type": "code",
   "execution_count": 85,
   "metadata": {},
   "outputs": [
    {
     "name": "stdout",
     "output_type": "stream",
     "text": [
      "Document: If you're choosing gifts to give or donate to children this year, be sure safety is on the list. Here are tips for toys to consider — those that encourage creativity, imagination, and movement  — and toys to try to avoid, due to safety concerns or for other reasons.\n",
      "Document: Penile implants, an option patients with erectile dysfunction probably hear little about, might offer a lasting and satisfying “cure.” Abraham Morgentaler, M.D., director of Men’s Health Boston, explains how.\n",
      "Document: The human body has excess capacity — that is, our organs have more reserve than most of us will ever need. Why are we built with this natural redundancy? And which body parts can safely fail or be removed without impairing health?\n",
      "Document: Removing tonsils in childhood was once routine care for healthy children, but is no longer recommended. Why are some organs and glands — appendix, tonsils, adenoids and more — considered expendable and why do we have them if they're not needed?\n",
      "Document: If you're looking for gifts to give or donate, climate-conscious gifts come in many guises and fit no-cost, low-cost, or big budgets. Gifts can directly support the environment, trim waste and fossil fuel use, or offer creative ways to connect, reuse, recyle — and possibly regift.\n"
     ]
    }
   ],
   "source": [
    "for result in results:\n",
    "                if \"_source\" in result:\n",
    "                    try:\n",
    "                        print(f\"Document: {result['_source']['Field']}\")\n",
    "                    except Exception as e:\n",
    "                        print(e)"
   ]
  },
  {
   "cell_type": "code",
   "execution_count": null,
   "metadata": {},
   "outputs": [],
   "source": []
  }
 ],
 "metadata": {
  "kernelspec": {
   "display_name": "Python 3 (ipykernel)",
   "language": "python",
   "name": "python3"
  },
  "language_info": {
   "codemirror_mode": {
    "name": "ipython",
    "version": 3
   },
   "file_extension": ".py",
   "mimetype": "text/x-python",
   "name": "python",
   "nbconvert_exporter": "python",
   "pygments_lexer": "ipython3",
   "version": "3.9.13"
  }
 },
 "nbformat": 4,
 "nbformat_minor": 2
}
