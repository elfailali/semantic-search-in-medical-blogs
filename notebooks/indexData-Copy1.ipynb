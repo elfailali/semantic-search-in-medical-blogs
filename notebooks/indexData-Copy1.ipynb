{
 "cells": [
  {
   "cell_type": "markdown",
   "metadata": {},
   "source": [
    "# INDEX THE DOCUMENTS"
   ]
  },
  {
   "cell_type": "code",
   "execution_count": 1,
   "metadata": {
    "scrolled": true
   },
   "outputs": [
    {
     "name": "stdout",
     "output_type": "stream",
     "text": [
      "Requirement already satisfied: elasticsearch in c:\\users\\honor\\anaconda3\\lib\\site-packages (8.11.0)\n",
      "Requirement already satisfied: elastic-transport<9,>=8 in c:\\users\\honor\\anaconda3\\lib\\site-packages (from elasticsearch) (8.10.0)\n",
      "Requirement already satisfied: urllib3<3,>=1.26.2 in c:\\users\\honor\\anaconda3\\lib\\site-packages (from elastic-transport<9,>=8->elasticsearch) (1.26.11)\n",
      "Requirement already satisfied: certifi in c:\\users\\honor\\appdata\\roaming\\python\\python39\\site-packages (from elastic-transport<9,>=8->elasticsearch) (2022.12.7)\n"
     ]
    }
   ],
   "source": [
    "!pip install elasticsearch"
   ]
  },
  {
   "cell_type": "markdown",
   "metadata": {},
   "source": [
    "## Import Libraries"
   ]
  },
  {
   "cell_type": "code",
   "execution_count": 2,
   "metadata": {},
   "outputs": [
    {
     "name": "stderr",
     "output_type": "stream",
     "text": [
      "C:\\Users\\Honor\\anaconda3\\lib\\site-packages\\numpy\\_distributor_init.py:30: UserWarning: loaded more than 1 DLL from .libs:\n",
      "C:\\Users\\Honor\\anaconda3\\lib\\site-packages\\numpy\\.libs\\libopenblas.FB5AE2TYXYH2IJRDKGDGQ3XBKLKTF43H.gfortran-win_amd64.dll\n",
      "C:\\Users\\Honor\\anaconda3\\lib\\site-packages\\numpy\\.libs\\libopenblas64__v0.3.21-gcc_10_3_0.dll\n",
      "  warnings.warn(\"loaded more than 1 DLL from .libs:\"\n"
     ]
    }
   ],
   "source": [
    "import pandas as pd\n",
    "from elasticsearch import Elasticsearch\n",
    "import tensorflow\n",
    "from sentence_transformers import SentenceTransformer\n",
    "from tqdm import tqdm\n",
    "tqdm.pandas()"
   ]
  },
  {
   "cell_type": "markdown",
   "metadata": {},
   "source": [
    "## Connect to elasticsearch"
   ]
  },
  {
   "cell_type": "code",
   "execution_count": 3,
   "metadata": {},
   "outputs": [
    {
     "data": {
      "text/plain": [
       "ObjectApiResponse({'name': 'instance-0000000001', 'cluster_name': 'afd82df271e64bb4a570686c98eaf924', 'cluster_uuid': 'xAhZB5KlRYeDghOsIdDdRg', 'version': {'number': '8.11.3', 'build_flavor': 'default', 'build_type': 'docker', 'build_hash': '64cf052f3b56b1fd4449f5454cb88aca7e739d9a', 'build_date': '2023-12-08T11:33:53.634979452Z', 'build_snapshot': False, 'lucene_version': '9.8.0', 'minimum_wire_compatibility_version': '7.17.0', 'minimum_index_compatibility_version': '7.0.0'}, 'tagline': 'You Know, for Search'})"
      ]
     },
     "execution_count": 3,
     "metadata": {},
     "output_type": "execute_result"
    }
   ],
   "source": [
    "from elasticsearch import Elasticsearch\n",
    "\n",
    "ELASTIC_PASSWORD = \"ysP1ylGF4F9UCzbD3RXLzCVW\"\n",
    "\n",
    "# Found in the 'Manage Deployment' page\n",
    "CLOUD_ID=\"8fc609e4e1a947fab7f3ab52e7e1c3d7:dXMtY2VudHJhbDEuZ2NwLmNsb3VkLmVzLmlvJGFmZDgyZGYyNzFlNjRiYjRhNTcwNjg2Yzk4ZWFmOTI0JDljYmQ0NDhhMWM3MjRjNjE5YTk4NTAyOWE3NmFkM2E0\"\n",
    "\n",
    "# Create the client instance\n",
    "client = Elasticsearch(\n",
    "    cloud_id=CLOUD_ID,\n",
    "    basic_auth=(\"elastic\", ELASTIC_PASSWORD)\n",
    ")\n",
    "\n",
    "# Successful response!\n",
    "client.info()"
   ]
  },
  {
   "cell_type": "code",
   "execution_count": 4,
   "metadata": {},
   "outputs": [
    {
     "data": {
      "text/plain": [
       "True"
      ]
     },
     "execution_count": 4,
     "metadata": {},
     "output_type": "execute_result"
    }
   ],
   "source": [
    "client.ping()"
   ]
  },
  {
   "cell_type": "markdown",
   "metadata": {},
   "source": [
    "# EDA"
   ]
  },
  {
   "cell_type": "markdown",
   "metadata": {},
   "source": [
    "# Prepare the data"
   ]
  },
  {
   "cell_type": "code",
   "execution_count": 5,
   "metadata": {},
   "outputs": [],
   "source": [
    "df = pd.read_json(\"../data/HarvardHealthBlog/medBlog.json\")"
   ]
  },
  {
   "cell_type": "code",
   "execution_count": 6,
   "metadata": {},
   "outputs": [
    {
     "data": {
      "text/plain": [
       "(13, 11)"
      ]
     },
     "execution_count": 6,
     "metadata": {},
     "output_type": "execute_result"
    }
   ],
   "source": [
    "df.shape"
   ]
  },
  {
   "cell_type": "code",
   "execution_count": 7,
   "metadata": {
    "scrolled": true
   },
   "outputs": [
    {
     "data": {
      "text/html": [
       "<div>\n",
       "<style scoped>\n",
       "    .dataframe tbody tr th:only-of-type {\n",
       "        vertical-align: middle;\n",
       "    }\n",
       "\n",
       "    .dataframe tbody tr th {\n",
       "        vertical-align: top;\n",
       "    }\n",
       "\n",
       "    .dataframe thead th {\n",
       "        text-align: right;\n",
       "    }\n",
       "</style>\n",
       "<table border=\"1\" class=\"dataframe\">\n",
       "  <thead>\n",
       "    <tr style=\"text-align: right;\">\n",
       "      <th></th>\n",
       "      <th>_id</th>\n",
       "      <th>title</th>\n",
       "      <th>image</th>\n",
       "      <th>content</th>\n",
       "      <th>createdAt</th>\n",
       "      <th>updatedAt</th>\n",
       "      <th>author</th>\n",
       "      <th>tags</th>\n",
       "      <th>comments</th>\n",
       "      <th>likes</th>\n",
       "      <th>_class</th>\n",
       "    </tr>\n",
       "  </thead>\n",
       "  <tbody>\n",
       "    <tr>\n",
       "      <th>0</th>\n",
       "      <td>{'$oid': '658b94f76c78f1229b2d6ddf'}</td>\n",
       "      <td>Exploring the Impact of Nutrition on Mental He...</td>\n",
       "      <td>http://res.cloudinary.com/ddhyzyvmp/image/uplo...</td>\n",
       "      <td>The connection between nutrition and mental he...</td>\n",
       "      <td>{'$date': '2023-12-27T03:07:35.873Z'}</td>\n",
       "      <td>{'$date': '2023-12-27T03:07:35.873Z'}</td>\n",
       "      <td>{'$ref': 'user', '$id': {'$oid': '658b3d003309...</td>\n",
       "      <td>[Nutrition, Diet and Mood, Mental Health, Brai...</td>\n",
       "      <td>[]</td>\n",
       "      <td>0</td>\n",
       "      <td>com.ensa.medicalblog.entity.PostEntity</td>\n",
       "    </tr>\n",
       "    <tr>\n",
       "      <th>1</th>\n",
       "      <td>{'$oid': '658b955e6c78f1229b2d6de8'}</td>\n",
       "      <td>The Microbiome: Unveiling the World Within Us</td>\n",
       "      <td>http://res.cloudinary.com/ddhyzyvmp/image/uplo...</td>\n",
       "      <td>Embark on a fascinating journey into the intri...</td>\n",
       "      <td>{'$date': '2023-12-27T03:09:18.668Z'}</td>\n",
       "      <td>{'$date': '2023-12-27T03:09:18.668Z'}</td>\n",
       "      <td>{'$ref': 'user', '$id': {'$oid': '658b3d003309...</td>\n",
       "      <td>[Antibiotics, Gut Microbiota, Human Health, Mi...</td>\n",
       "      <td>[]</td>\n",
       "      <td>0</td>\n",
       "      <td>com.ensa.medicalblog.entity.PostEntity</td>\n",
       "    </tr>\n",
       "  </tbody>\n",
       "</table>\n",
       "</div>"
      ],
      "text/plain": [
       "                                    _id  \\\n",
       "0  {'$oid': '658b94f76c78f1229b2d6ddf'}   \n",
       "1  {'$oid': '658b955e6c78f1229b2d6de8'}   \n",
       "\n",
       "                                               title  \\\n",
       "0  Exploring the Impact of Nutrition on Mental He...   \n",
       "1      The Microbiome: Unveiling the World Within Us   \n",
       "\n",
       "                                               image  \\\n",
       "0  http://res.cloudinary.com/ddhyzyvmp/image/uplo...   \n",
       "1  http://res.cloudinary.com/ddhyzyvmp/image/uplo...   \n",
       "\n",
       "                                             content  \\\n",
       "0  The connection between nutrition and mental he...   \n",
       "1  Embark on a fascinating journey into the intri...   \n",
       "\n",
       "                               createdAt  \\\n",
       "0  {'$date': '2023-12-27T03:07:35.873Z'}   \n",
       "1  {'$date': '2023-12-27T03:09:18.668Z'}   \n",
       "\n",
       "                               updatedAt  \\\n",
       "0  {'$date': '2023-12-27T03:07:35.873Z'}   \n",
       "1  {'$date': '2023-12-27T03:09:18.668Z'}   \n",
       "\n",
       "                                              author  \\\n",
       "0  {'$ref': 'user', '$id': {'$oid': '658b3d003309...   \n",
       "1  {'$ref': 'user', '$id': {'$oid': '658b3d003309...   \n",
       "\n",
       "                                                tags comments  likes  \\\n",
       "0  [Nutrition, Diet and Mood, Mental Health, Brai...       []      0   \n",
       "1  [Antibiotics, Gut Microbiota, Human Health, Mi...       []      0   \n",
       "\n",
       "                                   _class  \n",
       "0  com.ensa.medicalblog.entity.PostEntity  \n",
       "1  com.ensa.medicalblog.entity.PostEntity  "
      ]
     },
     "execution_count": 7,
     "metadata": {},
     "output_type": "execute_result"
    }
   ],
   "source": [
    "df.head(2)"
   ]
  },
  {
   "cell_type": "code",
   "execution_count": 22,
   "metadata": {},
   "outputs": [],
   "source": [
    "df = df.rename(columns={\"_id\": \"postID\"})"
   ]
  },
  {
   "cell_type": "markdown",
   "metadata": {},
   "source": [
    "# SKIP ME _______"
   ]
  },
  {
   "cell_type": "markdown",
   "metadata": {},
   "source": [
    "### Keep the essential columns"
   ]
  },
  {
   "cell_type": "code",
   "execution_count": 8,
   "metadata": {},
   "outputs": [
    {
     "data": {
      "text/plain": [
       "Index(['_id', 'title', 'image', 'content', 'createdAt', 'updatedAt', 'author',\n",
       "       'tags', 'comments', 'likes', '_class'],\n",
       "      dtype='object')"
      ]
     },
     "execution_count": 8,
     "metadata": {},
     "output_type": "execute_result"
    }
   ],
   "source": [
    "df.columns"
   ]
  },
  {
   "cell_type": "code",
   "execution_count": 11,
   "metadata": {},
   "outputs": [],
   "source": [
    "df = df[['Title1', 'Image1', 'inlineblock_URL', 'fontbold1', 'block1', 'Field1']]"
   ]
  },
  {
   "cell_type": "code",
   "execution_count": 12,
   "metadata": {
    "scrolled": false
   },
   "outputs": [
    {
     "data": {
      "text/html": [
       "<div>\n",
       "<style scoped>\n",
       "    .dataframe tbody tr th:only-of-type {\n",
       "        vertical-align: middle;\n",
       "    }\n",
       "\n",
       "    .dataframe tbody tr th {\n",
       "        vertical-align: top;\n",
       "    }\n",
       "\n",
       "    .dataframe thead th {\n",
       "        text-align: right;\n",
       "    }\n",
       "</style>\n",
       "<table border=\"1\" class=\"dataframe\">\n",
       "  <thead>\n",
       "    <tr style=\"text-align: right;\">\n",
       "      <th></th>\n",
       "      <th>Title1</th>\n",
       "      <th>Image1</th>\n",
       "      <th>inlineblock_URL</th>\n",
       "      <th>fontbold1</th>\n",
       "      <th>block1</th>\n",
       "      <th>Field1</th>\n",
       "    </tr>\n",
       "  </thead>\n",
       "  <tbody>\n",
       "    <tr>\n",
       "      <th>0</th>\n",
       "      <td>Immune boosts or busts? From IV drips and deto...</td>\n",
       "      <td>https://domf5oio6qrcr.cloudfront.net/medialibr...</td>\n",
       "      <td>https://www.health.harvard.edu/blog/immune-boo...</td>\n",
       "      <td>Staying Healthy</td>\n",
       "      <td>\\n            Published September 11, 2023\\n</td>\n",
       "      <td>Ads for products that promise to supercharge t...</td>\n",
       "    </tr>\n",
       "    <tr>\n",
       "      <th>1</th>\n",
       "      <td>After prostate cancer treatment, a new standar...</td>\n",
       "      <td>https://domf5oio6qrcr.cloudfront.net/medialibr...</td>\n",
       "      <td>https://www.health.harvard.edu/blog/after-pros...</td>\n",
       "      <td>Men's Health</td>\n",
       "      <td>\\n            Published December 20, 2023\\n</td>\n",
       "      <td>When prostate cancer recurs after initial trea...</td>\n",
       "    </tr>\n",
       "  </tbody>\n",
       "</table>\n",
       "</div>"
      ],
      "text/plain": [
       "                                              Title1  \\\n",
       "0  Immune boosts or busts? From IV drips and deto...   \n",
       "1  After prostate cancer treatment, a new standar...   \n",
       "\n",
       "                                              Image1  \\\n",
       "0  https://domf5oio6qrcr.cloudfront.net/medialibr...   \n",
       "1  https://domf5oio6qrcr.cloudfront.net/medialibr...   \n",
       "\n",
       "                                     inlineblock_URL        fontbold1  \\\n",
       "0  https://www.health.harvard.edu/blog/immune-boo...  Staying Healthy   \n",
       "1  https://www.health.harvard.edu/blog/after-pros...     Men's Health   \n",
       "\n",
       "                                             block1  \\\n",
       "0  \\n            Published September 11, 2023\\n       \n",
       "1   \\n            Published December 20, 2023\\n       \n",
       "\n",
       "                                              Field1  \n",
       "0  Ads for products that promise to supercharge t...  \n",
       "1  When prostate cancer recurs after initial trea...  "
      ]
     },
     "execution_count": 12,
     "metadata": {},
     "output_type": "execute_result"
    }
   ],
   "source": [
    "df.head(2)"
   ]
  },
  {
   "cell_type": "markdown",
   "metadata": {},
   "source": [
    "### Rename columns"
   ]
  },
  {
   "cell_type": "code",
   "execution_count": 13,
   "metadata": {},
   "outputs": [
    {
     "data": {
      "text/plain": [
       "Index(['Title1', 'Image1', 'inlineblock_URL', 'fontbold1', 'block1', 'Field1'], dtype='object')"
      ]
     },
     "execution_count": 13,
     "metadata": {},
     "output_type": "execute_result"
    }
   ],
   "source": [
    "df.columns"
   ]
  },
  {
   "cell_type": "code",
   "execution_count": 14,
   "metadata": {},
   "outputs": [],
   "source": [
    "df = df.rename(columns={\"Title1\": \"title\",\n",
    "                   \"Image1\": \"imageURL\",\n",
    "                   \"inlineblock_URL\": \"articleURL\",\n",
    "                   \"fontbold1\": \"category\",\n",
    "                   \"block1\": \"publishedDate\",\n",
    "                   \"Field1\": \"content\"\n",
    "                  })"
   ]
  },
  {
   "cell_type": "code",
   "execution_count": 15,
   "metadata": {
    "scrolled": true
   },
   "outputs": [
    {
     "data": {
      "text/html": [
       "<div>\n",
       "<style scoped>\n",
       "    .dataframe tbody tr th:only-of-type {\n",
       "        vertical-align: middle;\n",
       "    }\n",
       "\n",
       "    .dataframe tbody tr th {\n",
       "        vertical-align: top;\n",
       "    }\n",
       "\n",
       "    .dataframe thead th {\n",
       "        text-align: right;\n",
       "    }\n",
       "</style>\n",
       "<table border=\"1\" class=\"dataframe\">\n",
       "  <thead>\n",
       "    <tr style=\"text-align: right;\">\n",
       "      <th></th>\n",
       "      <th>title</th>\n",
       "      <th>imageURL</th>\n",
       "      <th>articleURL</th>\n",
       "      <th>category</th>\n",
       "      <th>publishedDate</th>\n",
       "      <th>content</th>\n",
       "    </tr>\n",
       "  </thead>\n",
       "  <tbody>\n",
       "    <tr>\n",
       "      <th>0</th>\n",
       "      <td>Immune boosts or busts? From IV drips and deto...</td>\n",
       "      <td>https://domf5oio6qrcr.cloudfront.net/medialibr...</td>\n",
       "      <td>https://www.health.harvard.edu/blog/immune-boo...</td>\n",
       "      <td>Staying Healthy</td>\n",
       "      <td>\\n            Published September 11, 2023\\n</td>\n",
       "      <td>Ads for products that promise to supercharge t...</td>\n",
       "    </tr>\n",
       "    <tr>\n",
       "      <th>1</th>\n",
       "      <td>After prostate cancer treatment, a new standar...</td>\n",
       "      <td>https://domf5oio6qrcr.cloudfront.net/medialibr...</td>\n",
       "      <td>https://www.health.harvard.edu/blog/after-pros...</td>\n",
       "      <td>Men's Health</td>\n",
       "      <td>\\n            Published December 20, 2023\\n</td>\n",
       "      <td>When prostate cancer recurs after initial trea...</td>\n",
       "    </tr>\n",
       "  </tbody>\n",
       "</table>\n",
       "</div>"
      ],
      "text/plain": [
       "                                               title  \\\n",
       "0  Immune boosts or busts? From IV drips and deto...   \n",
       "1  After prostate cancer treatment, a new standar...   \n",
       "\n",
       "                                            imageURL  \\\n",
       "0  https://domf5oio6qrcr.cloudfront.net/medialibr...   \n",
       "1  https://domf5oio6qrcr.cloudfront.net/medialibr...   \n",
       "\n",
       "                                          articleURL         category  \\\n",
       "0  https://www.health.harvard.edu/blog/immune-boo...  Staying Healthy   \n",
       "1  https://www.health.harvard.edu/blog/after-pros...     Men's Health   \n",
       "\n",
       "                                      publishedDate  \\\n",
       "0  \\n            Published September 11, 2023\\n       \n",
       "1   \\n            Published December 20, 2023\\n       \n",
       "\n",
       "                                             content  \n",
       "0  Ads for products that promise to supercharge t...  \n",
       "1  When prostate cancer recurs after initial trea...  "
      ]
     },
     "execution_count": 15,
     "metadata": {},
     "output_type": "execute_result"
    }
   ],
   "source": [
    "df.head(2)"
   ]
  },
  {
   "cell_type": "markdown",
   "metadata": {},
   "source": [
    "### Pre-process"
   ]
  },
  {
   "cell_type": "code",
   "execution_count": 16,
   "metadata": {},
   "outputs": [
    {
     "data": {
      "text/plain": [
       "'\\n            Published September 11, 2023\\n    '"
      ]
     },
     "execution_count": 16,
     "metadata": {},
     "output_type": "execute_result"
    }
   ],
   "source": [
    "df.publishedDate[0]"
   ]
  },
  {
   "cell_type": "markdown",
   "metadata": {},
   "source": [
    "- remove the newline character (\"\\n\"), spaces, and the word \"Published|Updated\" from the \"df['publishedDate']\" column"
   ]
  },
  {
   "cell_type": "code",
   "execution_count": 17,
   "metadata": {},
   "outputs": [],
   "source": [
    "df['publishedDate'] = df['publishedDate'].str.replace(r'\\n|\\s|Published|Updated', '', regex=True)"
   ]
  },
  {
   "cell_type": "code",
   "execution_count": 18,
   "metadata": {
    "scrolled": true
   },
   "outputs": [
    {
     "data": {
      "text/plain": [
       "0      September11,2023\n",
       "1       December20,2023\n",
       "2       December19,2023\n",
       "3       December18,2023\n",
       "4         January5,2022\n",
       "             ...       \n",
       "182       August17,2022\n",
       "183       August16,2022\n",
       "184       August15,2022\n",
       "185       August11,2022\n",
       "186       August23,2022\n",
       "Name: publishedDate, Length: 187, dtype: object"
      ]
     },
     "execution_count": 18,
     "metadata": {},
     "output_type": "execute_result"
    }
   ],
   "source": [
    "df['publishedDate']"
   ]
  },
  {
   "cell_type": "markdown",
   "metadata": {},
   "source": [
    "### Check NAN Values"
   ]
  },
  {
   "cell_type": "code",
   "execution_count": 9,
   "metadata": {},
   "outputs": [
    {
     "data": {
      "text/plain": [
       "0"
      ]
     },
     "execution_count": 9,
     "metadata": {},
     "output_type": "execute_result"
    }
   ],
   "source": [
    "df.isna().sum().sum()"
   ]
  },
  {
   "cell_type": "code",
   "execution_count": 10,
   "metadata": {},
   "outputs": [
    {
     "data": {
      "text/html": [
       "<div>\n",
       "<style scoped>\n",
       "    .dataframe tbody tr th:only-of-type {\n",
       "        vertical-align: middle;\n",
       "    }\n",
       "\n",
       "    .dataframe tbody tr th {\n",
       "        vertical-align: top;\n",
       "    }\n",
       "\n",
       "    .dataframe thead th {\n",
       "        text-align: right;\n",
       "    }\n",
       "</style>\n",
       "<table border=\"1\" class=\"dataframe\">\n",
       "  <thead>\n",
       "    <tr style=\"text-align: right;\">\n",
       "      <th></th>\n",
       "      <th>_id</th>\n",
       "      <th>title</th>\n",
       "      <th>image</th>\n",
       "      <th>content</th>\n",
       "      <th>createdAt</th>\n",
       "      <th>updatedAt</th>\n",
       "      <th>author</th>\n",
       "      <th>tags</th>\n",
       "      <th>comments</th>\n",
       "      <th>likes</th>\n",
       "      <th>_class</th>\n",
       "    </tr>\n",
       "  </thead>\n",
       "  <tbody>\n",
       "    <tr>\n",
       "      <th>0</th>\n",
       "      <td>{'$oid': '658b94f76c78f1229b2d6ddf'}</td>\n",
       "      <td>Exploring the Impact of Nutrition on Mental He...</td>\n",
       "      <td>http://res.cloudinary.com/ddhyzyvmp/image/uplo...</td>\n",
       "      <td>The connection between nutrition and mental he...</td>\n",
       "      <td>{'$date': '2023-12-27T03:07:35.873Z'}</td>\n",
       "      <td>{'$date': '2023-12-27T03:07:35.873Z'}</td>\n",
       "      <td>{'$ref': 'user', '$id': {'$oid': '658b3d003309...</td>\n",
       "      <td>[Nutrition, Diet and Mood, Mental Health, Brai...</td>\n",
       "      <td>[]</td>\n",
       "      <td>0</td>\n",
       "      <td>com.ensa.medicalblog.entity.PostEntity</td>\n",
       "    </tr>\n",
       "    <tr>\n",
       "      <th>1</th>\n",
       "      <td>{'$oid': '658b955e6c78f1229b2d6de8'}</td>\n",
       "      <td>The Microbiome: Unveiling the World Within Us</td>\n",
       "      <td>http://res.cloudinary.com/ddhyzyvmp/image/uplo...</td>\n",
       "      <td>Embark on a fascinating journey into the intri...</td>\n",
       "      <td>{'$date': '2023-12-27T03:09:18.668Z'}</td>\n",
       "      <td>{'$date': '2023-12-27T03:09:18.668Z'}</td>\n",
       "      <td>{'$ref': 'user', '$id': {'$oid': '658b3d003309...</td>\n",
       "      <td>[Antibiotics, Gut Microbiota, Human Health, Mi...</td>\n",
       "      <td>[]</td>\n",
       "      <td>0</td>\n",
       "      <td>com.ensa.medicalblog.entity.PostEntity</td>\n",
       "    </tr>\n",
       "    <tr>\n",
       "      <th>2</th>\n",
       "      <td>{'$oid': '658b95b86c78f1229b2d6df1'}</td>\n",
       "      <td>The Power of Mindfulness in Stress Reduction</td>\n",
       "      <td>http://res.cloudinary.com/ddhyzyvmp/image/uplo...</td>\n",
       "      <td>Embark on a journey of self-discovery as we ex...</td>\n",
       "      <td>{'$date': '2023-12-27T03:10:48.267Z'}</td>\n",
       "      <td>{'$date': '2023-12-27T03:10:48.267Z'}</td>\n",
       "      <td>{'$ref': 'user', '$id': {'$oid': '658b3d003309...</td>\n",
       "      <td>[Stress Reduction, Mindful Breathing, Emotiona...</td>\n",
       "      <td>[]</td>\n",
       "      <td>0</td>\n",
       "      <td>com.ensa.medicalblog.entity.PostEntity</td>\n",
       "    </tr>\n",
       "    <tr>\n",
       "      <th>3</th>\n",
       "      <td>{'$oid': '658b96156c78f1229b2d6dfa'}</td>\n",
       "      <td>Unlocking the Potential of Plant-Based Nutrition</td>\n",
       "      <td>http://res.cloudinary.com/ddhyzyvmp/image/uplo...</td>\n",
       "      <td>Embark on a journey into the world of plant-ba...</td>\n",
       "      <td>{'$date': '2023-12-27T03:12:21.333Z'}</td>\n",
       "      <td>{'$date': '2023-12-27T03:12:21.333Z'}</td>\n",
       "      <td>{'$ref': 'user', '$id': {'$oid': '658b3d003309...</td>\n",
       "      <td>[Plant-Based Nutrition, Vegetarian, Health Ben...</td>\n",
       "      <td>[]</td>\n",
       "      <td>0</td>\n",
       "      <td>com.ensa.medicalblog.entity.PostEntity</td>\n",
       "    </tr>\n",
       "    <tr>\n",
       "      <th>4</th>\n",
       "      <td>{'$oid': '658b96926c78f1229b2d6e03'}</td>\n",
       "      <td>The Impact of Technology on Mental Health: Nav...</td>\n",
       "      <td>http://res.cloudinary.com/ddhyzyvmp/image/uplo...</td>\n",
       "      <td>In the ever-evolving digital landscape, techno...</td>\n",
       "      <td>{'$date': '2023-12-27T03:14:26.272Z'}</td>\n",
       "      <td>{'$date': '2023-12-27T03:14:26.272Z'}</td>\n",
       "      <td>{'$ref': 'user', '$id': {'$oid': '658b3d003309...</td>\n",
       "      <td>[Digital Well-being, Technology, Online Commun...</td>\n",
       "      <td>[]</td>\n",
       "      <td>0</td>\n",
       "      <td>com.ensa.medicalblog.entity.PostEntity</td>\n",
       "    </tr>\n",
       "  </tbody>\n",
       "</table>\n",
       "</div>"
      ],
      "text/plain": [
       "                                    _id  \\\n",
       "0  {'$oid': '658b94f76c78f1229b2d6ddf'}   \n",
       "1  {'$oid': '658b955e6c78f1229b2d6de8'}   \n",
       "2  {'$oid': '658b95b86c78f1229b2d6df1'}   \n",
       "3  {'$oid': '658b96156c78f1229b2d6dfa'}   \n",
       "4  {'$oid': '658b96926c78f1229b2d6e03'}   \n",
       "\n",
       "                                               title  \\\n",
       "0  Exploring the Impact of Nutrition on Mental He...   \n",
       "1      The Microbiome: Unveiling the World Within Us   \n",
       "2       The Power of Mindfulness in Stress Reduction   \n",
       "3   Unlocking the Potential of Plant-Based Nutrition   \n",
       "4  The Impact of Technology on Mental Health: Nav...   \n",
       "\n",
       "                                               image  \\\n",
       "0  http://res.cloudinary.com/ddhyzyvmp/image/uplo...   \n",
       "1  http://res.cloudinary.com/ddhyzyvmp/image/uplo...   \n",
       "2  http://res.cloudinary.com/ddhyzyvmp/image/uplo...   \n",
       "3  http://res.cloudinary.com/ddhyzyvmp/image/uplo...   \n",
       "4  http://res.cloudinary.com/ddhyzyvmp/image/uplo...   \n",
       "\n",
       "                                             content  \\\n",
       "0  The connection between nutrition and mental he...   \n",
       "1  Embark on a fascinating journey into the intri...   \n",
       "2  Embark on a journey of self-discovery as we ex...   \n",
       "3  Embark on a journey into the world of plant-ba...   \n",
       "4  In the ever-evolving digital landscape, techno...   \n",
       "\n",
       "                               createdAt  \\\n",
       "0  {'$date': '2023-12-27T03:07:35.873Z'}   \n",
       "1  {'$date': '2023-12-27T03:09:18.668Z'}   \n",
       "2  {'$date': '2023-12-27T03:10:48.267Z'}   \n",
       "3  {'$date': '2023-12-27T03:12:21.333Z'}   \n",
       "4  {'$date': '2023-12-27T03:14:26.272Z'}   \n",
       "\n",
       "                               updatedAt  \\\n",
       "0  {'$date': '2023-12-27T03:07:35.873Z'}   \n",
       "1  {'$date': '2023-12-27T03:09:18.668Z'}   \n",
       "2  {'$date': '2023-12-27T03:10:48.267Z'}   \n",
       "3  {'$date': '2023-12-27T03:12:21.333Z'}   \n",
       "4  {'$date': '2023-12-27T03:14:26.272Z'}   \n",
       "\n",
       "                                              author  \\\n",
       "0  {'$ref': 'user', '$id': {'$oid': '658b3d003309...   \n",
       "1  {'$ref': 'user', '$id': {'$oid': '658b3d003309...   \n",
       "2  {'$ref': 'user', '$id': {'$oid': '658b3d003309...   \n",
       "3  {'$ref': 'user', '$id': {'$oid': '658b3d003309...   \n",
       "4  {'$ref': 'user', '$id': {'$oid': '658b3d003309...   \n",
       "\n",
       "                                                tags comments  likes  \\\n",
       "0  [Nutrition, Diet and Mood, Mental Health, Brai...       []      0   \n",
       "1  [Antibiotics, Gut Microbiota, Human Health, Mi...       []      0   \n",
       "2  [Stress Reduction, Mindful Breathing, Emotiona...       []      0   \n",
       "3  [Plant-Based Nutrition, Vegetarian, Health Ben...       []      0   \n",
       "4  [Digital Well-being, Technology, Online Commun...       []      0   \n",
       "\n",
       "                                   _class  \n",
       "0  com.ensa.medicalblog.entity.PostEntity  \n",
       "1  com.ensa.medicalblog.entity.PostEntity  \n",
       "2  com.ensa.medicalblog.entity.PostEntity  \n",
       "3  com.ensa.medicalblog.entity.PostEntity  \n",
       "4  com.ensa.medicalblog.entity.PostEntity  "
      ]
     },
     "execution_count": 10,
     "metadata": {},
     "output_type": "execute_result"
    }
   ],
   "source": [
    "df.head()"
   ]
  },
  {
   "cell_type": "markdown",
   "metadata": {},
   "source": [
    "# START HERE _______"
   ]
  },
  {
   "cell_type": "markdown",
   "metadata": {},
   "source": [
    "# Convert text to Vector using S-BERT Model"
   ]
  },
  {
   "cell_type": "code",
   "execution_count": 11,
   "metadata": {},
   "outputs": [],
   "source": [
    "model = SentenceTransformer('all-mpnet-base-v2')"
   ]
  },
  {
   "cell_type": "code",
   "execution_count": 12,
   "metadata": {},
   "outputs": [
    {
     "name": "stderr",
     "output_type": "stream",
     "text": [
      "100%|██████████████████████████████████████████████████████████████████████████████████| 13/13 [00:06<00:00,  2.14it/s]\n"
     ]
    }
   ],
   "source": [
    "df[\"description_vector\"] = df[\"content\"].progress_apply(lambda x: model.encode(x))"
   ]
  },
  {
   "cell_type": "code",
   "execution_count": 23,
   "metadata": {},
   "outputs": [
    {
     "data": {
      "text/html": [
       "<div>\n",
       "<style scoped>\n",
       "    .dataframe tbody tr th:only-of-type {\n",
       "        vertical-align: middle;\n",
       "    }\n",
       "\n",
       "    .dataframe tbody tr th {\n",
       "        vertical-align: top;\n",
       "    }\n",
       "\n",
       "    .dataframe thead th {\n",
       "        text-align: right;\n",
       "    }\n",
       "</style>\n",
       "<table border=\"1\" class=\"dataframe\">\n",
       "  <thead>\n",
       "    <tr style=\"text-align: right;\">\n",
       "      <th></th>\n",
       "      <th>postID</th>\n",
       "      <th>title</th>\n",
       "      <th>image</th>\n",
       "      <th>content</th>\n",
       "      <th>createdAt</th>\n",
       "      <th>updatedAt</th>\n",
       "      <th>author</th>\n",
       "      <th>tags</th>\n",
       "      <th>comments</th>\n",
       "      <th>likes</th>\n",
       "      <th>_class</th>\n",
       "      <th>description_vector</th>\n",
       "    </tr>\n",
       "  </thead>\n",
       "  <tbody>\n",
       "    <tr>\n",
       "      <th>0</th>\n",
       "      <td>{'$oid': '658b94f76c78f1229b2d6ddf'}</td>\n",
       "      <td>Exploring the Impact of Nutrition on Mental He...</td>\n",
       "      <td>http://res.cloudinary.com/ddhyzyvmp/image/uplo...</td>\n",
       "      <td>The connection between nutrition and mental he...</td>\n",
       "      <td>{'$date': '2023-12-27T03:07:35.873Z'}</td>\n",
       "      <td>{'$date': '2023-12-27T03:07:35.873Z'}</td>\n",
       "      <td>{'$ref': 'user', '$id': {'$oid': '658b3d003309...</td>\n",
       "      <td>[Nutrition, Diet and Mood, Mental Health, Brai...</td>\n",
       "      <td>[]</td>\n",
       "      <td>0</td>\n",
       "      <td>com.ensa.medicalblog.entity.PostEntity</td>\n",
       "      <td>[-0.009982353, 0.064412005, -0.020627184, -0.0...</td>\n",
       "    </tr>\n",
       "    <tr>\n",
       "      <th>1</th>\n",
       "      <td>{'$oid': '658b955e6c78f1229b2d6de8'}</td>\n",
       "      <td>The Microbiome: Unveiling the World Within Us</td>\n",
       "      <td>http://res.cloudinary.com/ddhyzyvmp/image/uplo...</td>\n",
       "      <td>Embark on a fascinating journey into the intri...</td>\n",
       "      <td>{'$date': '2023-12-27T03:09:18.668Z'}</td>\n",
       "      <td>{'$date': '2023-12-27T03:09:18.668Z'}</td>\n",
       "      <td>{'$ref': 'user', '$id': {'$oid': '658b3d003309...</td>\n",
       "      <td>[Antibiotics, Gut Microbiota, Human Health, Mi...</td>\n",
       "      <td>[]</td>\n",
       "      <td>0</td>\n",
       "      <td>com.ensa.medicalblog.entity.PostEntity</td>\n",
       "      <td>[0.06837606, 0.030840887, -0.008685436, -0.045...</td>\n",
       "    </tr>\n",
       "  </tbody>\n",
       "</table>\n",
       "</div>"
      ],
      "text/plain": [
       "                                 postID  \\\n",
       "0  {'$oid': '658b94f76c78f1229b2d6ddf'}   \n",
       "1  {'$oid': '658b955e6c78f1229b2d6de8'}   \n",
       "\n",
       "                                               title  \\\n",
       "0  Exploring the Impact of Nutrition on Mental He...   \n",
       "1      The Microbiome: Unveiling the World Within Us   \n",
       "\n",
       "                                               image  \\\n",
       "0  http://res.cloudinary.com/ddhyzyvmp/image/uplo...   \n",
       "1  http://res.cloudinary.com/ddhyzyvmp/image/uplo...   \n",
       "\n",
       "                                             content  \\\n",
       "0  The connection between nutrition and mental he...   \n",
       "1  Embark on a fascinating journey into the intri...   \n",
       "\n",
       "                               createdAt  \\\n",
       "0  {'$date': '2023-12-27T03:07:35.873Z'}   \n",
       "1  {'$date': '2023-12-27T03:09:18.668Z'}   \n",
       "\n",
       "                               updatedAt  \\\n",
       "0  {'$date': '2023-12-27T03:07:35.873Z'}   \n",
       "1  {'$date': '2023-12-27T03:09:18.668Z'}   \n",
       "\n",
       "                                              author  \\\n",
       "0  {'$ref': 'user', '$id': {'$oid': '658b3d003309...   \n",
       "1  {'$ref': 'user', '$id': {'$oid': '658b3d003309...   \n",
       "\n",
       "                                                tags comments  likes  \\\n",
       "0  [Nutrition, Diet and Mood, Mental Health, Brai...       []      0   \n",
       "1  [Antibiotics, Gut Microbiota, Human Health, Mi...       []      0   \n",
       "\n",
       "                                   _class  \\\n",
       "0  com.ensa.medicalblog.entity.PostEntity   \n",
       "1  com.ensa.medicalblog.entity.PostEntity   \n",
       "\n",
       "                                  description_vector  \n",
       "0  [-0.009982353, 0.064412005, -0.020627184, -0.0...  \n",
       "1  [0.06837606, 0.030840887, -0.008685436, -0.045...  "
      ]
     },
     "execution_count": 23,
     "metadata": {},
     "output_type": "execute_result"
    }
   ],
   "source": [
    "df.head(2)"
   ]
  },
  {
   "cell_type": "code",
   "execution_count": 38,
   "metadata": {},
   "outputs": [
    {
     "data": {
      "text/plain": [
       "True"
      ]
     },
     "execution_count": 38,
     "metadata": {},
     "output_type": "execute_result"
    }
   ],
   "source": [
    "client.ping()"
   ]
  },
  {
   "cell_type": "markdown",
   "metadata": {},
   "source": [
    "# Create new index"
   ]
  },
  {
   "cell_type": "code",
   "execution_count": 25,
   "metadata": {},
   "outputs": [],
   "source": [
    "from indexMapping import indexMapping"
   ]
  },
  {
   "cell_type": "code",
   "execution_count": 26,
   "metadata": {},
   "outputs": [],
   "source": [
    "# es.indices.create(index=\"all_documents\", mappings= indexMapping)"
   ]
  },
  {
   "cell_type": "code",
   "execution_count": 27,
   "metadata": {},
   "outputs": [
    {
     "name": "stdout",
     "output_type": "stream",
     "text": [
      "Index 'med-blogs' already exists.\n"
     ]
    }
   ],
   "source": [
    "index_name = \"med-blogs\"\n",
    "if not client.indices.exists(index=index_name):\n",
    "    client.indices.create(index=index_name, mappings=indexMapping)\n",
    "    print(f\"Index '{index_name}' created successfully.\")\n",
    "else:\n",
    "    print(f\"Index '{index_name}' already exists.\")"
   ]
  },
  {
   "cell_type": "code",
   "execution_count": 28,
   "metadata": {},
   "outputs": [],
   "source": [
    "records_list = df.to_dict(\"records\")"
   ]
  },
  {
   "cell_type": "code",
   "execution_count": 32,
   "metadata": {},
   "outputs": [
    {
     "data": {
      "text/plain": [
       "13"
      ]
     },
     "execution_count": 32,
     "metadata": {},
     "output_type": "execute_result"
    }
   ],
   "source": [
    "len(records_list)"
   ]
  },
  {
   "cell_type": "code",
   "execution_count": 33,
   "metadata": {},
   "outputs": [
    {
     "name": "stdout",
     "output_type": "stream",
     "text": [
      "Connection timed out\n"
     ]
    }
   ],
   "source": [
    "for record in records_list:\n",
    "    try:\n",
    "        client.index(index= index_name, document=record)\n",
    "    except Exception as e:\n",
    "        print(e)"
   ]
  },
  {
   "cell_type": "code",
   "execution_count": 34,
   "metadata": {},
   "outputs": [
    {
     "data": {
      "text/plain": [
       "ObjectApiResponse({'count': 26, '_shards': {'total': 1, 'successful': 1, 'skipped': 0, 'failed': 0}})"
      ]
     },
     "execution_count": 34,
     "metadata": {},
     "output_type": "execute_result"
    }
   ],
   "source": [
    "client.count(index= index_name)"
   ]
  },
  {
   "cell_type": "markdown",
   "metadata": {},
   "source": [
    "# Searching documents:"
   ]
  },
  {
   "cell_type": "code",
   "execution_count": 36,
   "metadata": {},
   "outputs": [
    {
     "data": {
      "text/plain": [
       "Index(['postID', 'title', 'image', 'content', 'createdAt', 'updatedAt',\n",
       "       'author', 'tags', 'comments', 'likes', '_class', 'description_vector'],\n",
       "      dtype='object')"
      ]
     },
     "execution_count": 36,
     "metadata": {},
     "output_type": "execute_result"
    }
   ],
   "source": [
    "df.columns"
   ]
  },
  {
   "cell_type": "code",
   "execution_count": 37,
   "metadata": {
    "scrolled": true
   },
   "outputs": [
    {
     "name": "stdout",
     "output_type": "stream",
     "text": [
      "Document score: 0.36365005\n",
      "Document Title: Digital Detox: Navigating the Benefits of Unplugging\n",
      "Document Text: Embark on a journey of digital detoxification and explore the profound benefits of unplugging from the digital world. This post delves into the impact of constant connectivity on mental health, sleep patterns, and overall well-being. Discover practical tips for a successful digital detox, fostering a healthier relationship with technology and embracing moments of mindful presence.\n",
      "__________________________________________________\n",
      "Document score: 0.36365005\n",
      "Document Title: Digital Detox: Navigating the Benefits of Unplugging\n",
      "Document Text: Embark on a journey of digital detoxification and explore the profound benefits of unplugging from the digital world. This post delves into the impact of constant connectivity on mental health, sleep patterns, and overall well-being. Discover practical tips for a successful digital detox, fostering a healthier relationship with technology and embracing moments of mindful presence.\n",
      "__________________________________________________\n",
      "Document score: 0.36189142\n",
      "Document Title: The Impact of Technology on Mental Health: Navigating the Digital Landscape\n",
      "Document Text: In the ever-evolving digital landscape, technology plays a significant role in shaping our daily lives. This post explores the complex relationship between technology and mental health, delving into the potential benefits and challenges that arise in our interconnected world.\n",
      "__________________________________________________\n",
      "Document score: 0.36189142\n",
      "Document Title: The Impact of Technology on Mental Health: Navigating the Digital Landscape\n",
      "Document Text: In the ever-evolving digital landscape, technology plays a significant role in shaping our daily lives. This post explores the complex relationship between technology and mental health, delving into the potential benefits and challenges that arise in our interconnected world.\n",
      "__________________________________________________\n",
      "Document score: 0.35807398\n",
      "Document Title: Embracing Solitude: The Art of Self-Discovery\n",
      "Document Text: Embark on a transformative journey into the realm of solitude, where the beauty of self-discovery awaits. In this post, we explore the profound benefits of spending quality time alone, delving into the introspective process that allows for personal growth and self-awareness. From mindful practices to fostering creativity, discover how embracing solitude can be a powerful catalyst for a deeper connection with oneself.\n",
      "__________________________________________________\n"
     ]
    },
    {
     "name": "stderr",
     "output_type": "stream",
     "text": [
      "C:\\Users\\Honor\\AppData\\Local\\Temp\\ipykernel_21604\\184663085.py:11: ElasticsearchWarning: The kNN search API has been replaced by the `knn` option in the search API.\n",
      "  res = client.knn_search(index= index_name , knn=query, source=['title', 'imageURL', 'articleURL', 'category', 'publishedDate',\n"
     ]
    }
   ],
   "source": [
    "user_input = \"toys\"\n",
    "vector_input = model.encode(user_input)\n",
    "\n",
    "query = {\n",
    "    \"field\": \"description_vector\",\n",
    "    \"query_vector\": vector_input,\n",
    "    \"k\":5,\n",
    "    \"num_candidates\": 200,\n",
    "}\n",
    "\n",
    "res = client.knn_search(index= index_name , knn=query, source=['title', 'imageURL', 'articleURL', 'category', 'publishedDate',\n",
    "       'content'])\n",
    "\n",
    "results = res[\"hits\"][\"hits\"]\n",
    "\n",
    "for result in results:\n",
    "    if \"_source\" in result:\n",
    "        try:\n",
    "            print(f\"Document score: {result['_score']}\")\n",
    "            print(f\"Document Title: {result['_source']['title']}\")\n",
    "            print(f\"Document Text: {result['_source']['content']}\")\n",
    "            print(50*\"_\")\n",
    "        except Exception as e:\n",
    "            print(e)\n",
    "    \n",
    "\n",
    "# results\n",
    "# relevants_docs\n",
    "# score = res[\"hits\"][:max_score]\n",
    "# score"
   ]
  },
  {
   "cell_type": "code",
   "execution_count": null,
   "metadata": {},
   "outputs": [],
   "source": []
  }
 ],
 "metadata": {
  "kernelspec": {
   "display_name": "Python 3 (ipykernel)",
   "language": "python",
   "name": "python3"
  },
  "language_info": {
   "codemirror_mode": {
    "name": "ipython",
    "version": 3
   },
   "file_extension": ".py",
   "mimetype": "text/x-python",
   "name": "python",
   "nbconvert_exporter": "python",
   "pygments_lexer": "ipython3",
   "version": "3.9.13"
  }
 },
 "nbformat": 4,
 "nbformat_minor": 2
}
