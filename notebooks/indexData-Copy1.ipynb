{
 "cells": [
  {
   "cell_type": "markdown",
   "metadata": {},
   "source": [
    "# INDEX THE DOCUMENTS"
   ]
  },
  {
   "cell_type": "code",
   "execution_count": 1,
   "metadata": {
    "scrolled": true
   },
   "outputs": [
    {
     "name": "stdout",
     "output_type": "stream",
     "text": [
      "Requirement already satisfied: elasticsearch in c:\\users\\honor\\anaconda3\\lib\\site-packages (8.11.0)\n",
      "Requirement already satisfied: elastic-transport<9,>=8 in c:\\users\\honor\\anaconda3\\lib\\site-packages (from elasticsearch) (8.10.0)\n",
      "Requirement already satisfied: urllib3<3,>=1.26.2 in c:\\users\\honor\\anaconda3\\lib\\site-packages (from elastic-transport<9,>=8->elasticsearch) (1.26.11)\n",
      "Requirement already satisfied: certifi in c:\\users\\honor\\appdata\\roaming\\python\\python39\\site-packages (from elastic-transport<9,>=8->elasticsearch) (2022.12.7)\n"
     ]
    }
   ],
   "source": [
    "!pip install elasticsearch"
   ]
  },
  {
   "cell_type": "markdown",
   "metadata": {},
   "source": [
    "## Import Libraries"
   ]
  },
  {
   "cell_type": "code",
   "execution_count": 2,
   "metadata": {},
   "outputs": [
    {
     "name": "stderr",
     "output_type": "stream",
     "text": [
      "C:\\Users\\Honor\\anaconda3\\lib\\site-packages\\numpy\\_distributor_init.py:30: UserWarning: loaded more than 1 DLL from .libs:\n",
      "C:\\Users\\Honor\\anaconda3\\lib\\site-packages\\numpy\\.libs\\libopenblas.FB5AE2TYXYH2IJRDKGDGQ3XBKLKTF43H.gfortran-win_amd64.dll\n",
      "C:\\Users\\Honor\\anaconda3\\lib\\site-packages\\numpy\\.libs\\libopenblas64__v0.3.21-gcc_10_3_0.dll\n",
      "  warnings.warn(\"loaded more than 1 DLL from .libs:\"\n"
     ]
    }
   ],
   "source": [
    "import pandas as pd\n",
    "from elasticsearch import Elasticsearch\n",
    "import tensorflow\n",
    "from sentence_transformers import SentenceTransformer\n",
    "from tqdm import tqdm\n",
    "tqdm.pandas()"
   ]
  },
  {
   "cell_type": "markdown",
   "metadata": {},
   "source": [
    "## Connect to elasticsearch"
   ]
  },
  {
   "cell_type": "code",
   "execution_count": 5,
   "metadata": {},
   "outputs": [
    {
     "data": {
      "text/plain": [
       "ObjectApiResponse({'name': 'instance-0000000001', 'cluster_name': 'afd82df271e64bb4a570686c98eaf924', 'cluster_uuid': 'xAhZB5KlRYeDghOsIdDdRg', 'version': {'number': '8.11.3', 'build_flavor': 'default', 'build_type': 'docker', 'build_hash': '64cf052f3b56b1fd4449f5454cb88aca7e739d9a', 'build_date': '2023-12-08T11:33:53.634979452Z', 'build_snapshot': False, 'lucene_version': '9.8.0', 'minimum_wire_compatibility_version': '7.17.0', 'minimum_index_compatibility_version': '7.0.0'}, 'tagline': 'You Know, for Search'})"
      ]
     },
     "execution_count": 5,
     "metadata": {},
     "output_type": "execute_result"
    }
   ],
   "source": [
    "from elasticsearch import Elasticsearch\n",
    "\n",
    "ELASTIC_PASSWORD = \"ysP1ylGF4F9UCzbD3RXLzCVW\"\n",
    "\n",
    "# Found in the 'Manage Deployment' page\n",
    "CLOUD_ID=\"8fc609e4e1a947fab7f3ab52e7e1c3d7:dXMtY2VudHJhbDEuZ2NwLmNsb3VkLmVzLmlvJGFmZDgyZGYyNzFlNjRiYjRhNTcwNjg2Yzk4ZWFmOTI0JDljYmQ0NDhhMWM3MjRjNjE5YTk4NTAyOWE3NmFkM2E0\"\n",
    "\n",
    "# Create the client instance\n",
    "client = Elasticsearch(\n",
    "    cloud_id=CLOUD_ID,\n",
    "    basic_auth=(\"elastic\", ELASTIC_PASSWORD)\n",
    ")\n",
    "\n",
    "# Successful response!\n",
    "client.info()"
   ]
  },
  {
   "cell_type": "code",
   "execution_count": 6,
   "metadata": {},
   "outputs": [
    {
     "data": {
      "text/plain": [
       "True"
      ]
     },
     "execution_count": 6,
     "metadata": {},
     "output_type": "execute_result"
    }
   ],
   "source": [
    "client.ping()"
   ]
  },
  {
   "cell_type": "markdown",
   "metadata": {},
   "source": [
    "# EDA"
   ]
  },
  {
   "cell_type": "markdown",
   "metadata": {},
   "source": [
    "# Prepare the data"
   ]
  },
  {
   "cell_type": "code",
   "execution_count": 7,
   "metadata": {},
   "outputs": [],
   "source": [
    "df = pd.read_json(\"../data/HarvardHealthBlog/HarvardHealthBlog_part2.json\")"
   ]
  },
  {
   "cell_type": "code",
   "execution_count": 8,
   "metadata": {},
   "outputs": [
    {
     "data": {
      "text/plain": [
       "(187, 21)"
      ]
     },
     "execution_count": 8,
     "metadata": {},
     "output_type": "execute_result"
    }
   ],
   "source": [
    "df.shape"
   ]
  },
  {
   "cell_type": "code",
   "execution_count": 9,
   "metadata": {
    "scrolled": true
   },
   "outputs": [
    {
     "data": {
      "text/html": [
       "<div>\n",
       "<style scoped>\n",
       "    .dataframe tbody tr th:only-of-type {\n",
       "        vertical-align: middle;\n",
       "    }\n",
       "\n",
       "    .dataframe tbody tr th {\n",
       "        vertical-align: top;\n",
       "    }\n",
       "\n",
       "    .dataframe thead th {\n",
       "        text-align: right;\n",
       "    }\n",
       "</style>\n",
       "<table border=\"1\" class=\"dataframe\">\n",
       "  <thead>\n",
       "    <tr style=\"text-align: right;\">\n",
       "      <th></th>\n",
       "      <th>Title1</th>\n",
       "      <th>Image1</th>\n",
       "      <th>inlineblock_URL</th>\n",
       "      <th>fontbold_URL1</th>\n",
       "      <th>fontbold1</th>\n",
       "      <th>block1</th>\n",
       "      <th>Field1</th>\n",
       "      <th>Title</th>\n",
       "      <th>Title_URL</th>\n",
       "      <th>Image</th>\n",
       "      <th>...</th>\n",
       "      <th>fontbold</th>\n",
       "      <th>block</th>\n",
       "      <th>Field</th>\n",
       "      <th>Title2</th>\n",
       "      <th>Image2</th>\n",
       "      <th>inlineblock_URL1</th>\n",
       "      <th>fontbold_URL2</th>\n",
       "      <th>fontbold2</th>\n",
       "      <th>block2</th>\n",
       "      <th>Field2</th>\n",
       "    </tr>\n",
       "  </thead>\n",
       "  <tbody>\n",
       "    <tr>\n",
       "      <th>0</th>\n",
       "      <td>Immune boosts or busts? From IV drips and deto...</td>\n",
       "      <td>https://domf5oio6qrcr.cloudfront.net/medialibr...</td>\n",
       "      <td>https://www.health.harvard.edu/blog/immune-boo...</td>\n",
       "      <td>https://www.health.harvard.edu/topics/staying-...</td>\n",
       "      <td>Staying Healthy</td>\n",
       "      <td>\\n            Published September 11, 2023\\n</td>\n",
       "      <td>Ads for products that promise to supercharge t...</td>\n",
       "      <td></td>\n",
       "      <td></td>\n",
       "      <td></td>\n",
       "      <td>...</td>\n",
       "      <td></td>\n",
       "      <td></td>\n",
       "      <td></td>\n",
       "      <td></td>\n",
       "      <td></td>\n",
       "      <td></td>\n",
       "      <td></td>\n",
       "      <td></td>\n",
       "      <td></td>\n",
       "      <td></td>\n",
       "    </tr>\n",
       "    <tr>\n",
       "      <th>1</th>\n",
       "      <td>After prostate cancer treatment, a new standar...</td>\n",
       "      <td>https://domf5oio6qrcr.cloudfront.net/medialibr...</td>\n",
       "      <td>https://www.health.harvard.edu/blog/after-pros...</td>\n",
       "      <td>https://www.health.harvard.edu/topics/mens-health</td>\n",
       "      <td>Men's Health</td>\n",
       "      <td>\\n            Published December 20, 2023\\n</td>\n",
       "      <td>When prostate cancer recurs after initial trea...</td>\n",
       "      <td></td>\n",
       "      <td></td>\n",
       "      <td></td>\n",
       "      <td>...</td>\n",
       "      <td></td>\n",
       "      <td></td>\n",
       "      <td></td>\n",
       "      <td></td>\n",
       "      <td></td>\n",
       "      <td></td>\n",
       "      <td></td>\n",
       "      <td></td>\n",
       "      <td></td>\n",
       "      <td></td>\n",
       "    </tr>\n",
       "  </tbody>\n",
       "</table>\n",
       "<p>2 rows × 21 columns</p>\n",
       "</div>"
      ],
      "text/plain": [
       "                                              Title1  \\\n",
       "0  Immune boosts or busts? From IV drips and deto...   \n",
       "1  After prostate cancer treatment, a new standar...   \n",
       "\n",
       "                                              Image1  \\\n",
       "0  https://domf5oio6qrcr.cloudfront.net/medialibr...   \n",
       "1  https://domf5oio6qrcr.cloudfront.net/medialibr...   \n",
       "\n",
       "                                     inlineblock_URL  \\\n",
       "0  https://www.health.harvard.edu/blog/immune-boo...   \n",
       "1  https://www.health.harvard.edu/blog/after-pros...   \n",
       "\n",
       "                                       fontbold_URL1        fontbold1  \\\n",
       "0  https://www.health.harvard.edu/topics/staying-...  Staying Healthy   \n",
       "1  https://www.health.harvard.edu/topics/mens-health     Men's Health   \n",
       "\n",
       "                                             block1  \\\n",
       "0  \\n            Published September 11, 2023\\n       \n",
       "1   \\n            Published December 20, 2023\\n       \n",
       "\n",
       "                                              Field1 Title Title_URL Image  \\\n",
       "0  Ads for products that promise to supercharge t...                         \n",
       "1  When prostate cancer recurs after initial trea...                         \n",
       "\n",
       "   ... fontbold block Field Title2 Image2 inlineblock_URL1 fontbold_URL2  \\\n",
       "0  ...                                                                     \n",
       "1  ...                                                                     \n",
       "\n",
       "  fontbold2 block2 Field2  \n",
       "0                          \n",
       "1                          \n",
       "\n",
       "[2 rows x 21 columns]"
      ]
     },
     "execution_count": 9,
     "metadata": {},
     "output_type": "execute_result"
    }
   ],
   "source": [
    "df.head(2)"
   ]
  },
  {
   "cell_type": "markdown",
   "metadata": {},
   "source": [
    "### Keep the essential columns"
   ]
  },
  {
   "cell_type": "code",
   "execution_count": 10,
   "metadata": {},
   "outputs": [
    {
     "data": {
      "text/plain": [
       "Index(['Title1', 'Image1', 'inlineblock_URL', 'fontbold_URL1', 'fontbold1',\n",
       "       'block1', 'Field1', 'Title', 'Title_URL', 'Image', 'fontbold_URL',\n",
       "       'fontbold', 'block', 'Field', 'Title2', 'Image2', 'inlineblock_URL1',\n",
       "       'fontbold_URL2', 'fontbold2', 'block2', 'Field2'],\n",
       "      dtype='object')"
      ]
     },
     "execution_count": 10,
     "metadata": {},
     "output_type": "execute_result"
    }
   ],
   "source": [
    "df.columns"
   ]
  },
  {
   "cell_type": "code",
   "execution_count": 11,
   "metadata": {},
   "outputs": [],
   "source": [
    "df = df[['Title1', 'Image1', 'inlineblock_URL', 'fontbold1', 'block1', 'Field1']]"
   ]
  },
  {
   "cell_type": "code",
   "execution_count": 12,
   "metadata": {
    "scrolled": false
   },
   "outputs": [
    {
     "data": {
      "text/html": [
       "<div>\n",
       "<style scoped>\n",
       "    .dataframe tbody tr th:only-of-type {\n",
       "        vertical-align: middle;\n",
       "    }\n",
       "\n",
       "    .dataframe tbody tr th {\n",
       "        vertical-align: top;\n",
       "    }\n",
       "\n",
       "    .dataframe thead th {\n",
       "        text-align: right;\n",
       "    }\n",
       "</style>\n",
       "<table border=\"1\" class=\"dataframe\">\n",
       "  <thead>\n",
       "    <tr style=\"text-align: right;\">\n",
       "      <th></th>\n",
       "      <th>Title1</th>\n",
       "      <th>Image1</th>\n",
       "      <th>inlineblock_URL</th>\n",
       "      <th>fontbold1</th>\n",
       "      <th>block1</th>\n",
       "      <th>Field1</th>\n",
       "    </tr>\n",
       "  </thead>\n",
       "  <tbody>\n",
       "    <tr>\n",
       "      <th>0</th>\n",
       "      <td>Immune boosts or busts? From IV drips and deto...</td>\n",
       "      <td>https://domf5oio6qrcr.cloudfront.net/medialibr...</td>\n",
       "      <td>https://www.health.harvard.edu/blog/immune-boo...</td>\n",
       "      <td>Staying Healthy</td>\n",
       "      <td>\\n            Published September 11, 2023\\n</td>\n",
       "      <td>Ads for products that promise to supercharge t...</td>\n",
       "    </tr>\n",
       "    <tr>\n",
       "      <th>1</th>\n",
       "      <td>After prostate cancer treatment, a new standar...</td>\n",
       "      <td>https://domf5oio6qrcr.cloudfront.net/medialibr...</td>\n",
       "      <td>https://www.health.harvard.edu/blog/after-pros...</td>\n",
       "      <td>Men's Health</td>\n",
       "      <td>\\n            Published December 20, 2023\\n</td>\n",
       "      <td>When prostate cancer recurs after initial trea...</td>\n",
       "    </tr>\n",
       "  </tbody>\n",
       "</table>\n",
       "</div>"
      ],
      "text/plain": [
       "                                              Title1  \\\n",
       "0  Immune boosts or busts? From IV drips and deto...   \n",
       "1  After prostate cancer treatment, a new standar...   \n",
       "\n",
       "                                              Image1  \\\n",
       "0  https://domf5oio6qrcr.cloudfront.net/medialibr...   \n",
       "1  https://domf5oio6qrcr.cloudfront.net/medialibr...   \n",
       "\n",
       "                                     inlineblock_URL        fontbold1  \\\n",
       "0  https://www.health.harvard.edu/blog/immune-boo...  Staying Healthy   \n",
       "1  https://www.health.harvard.edu/blog/after-pros...     Men's Health   \n",
       "\n",
       "                                             block1  \\\n",
       "0  \\n            Published September 11, 2023\\n       \n",
       "1   \\n            Published December 20, 2023\\n       \n",
       "\n",
       "                                              Field1  \n",
       "0  Ads for products that promise to supercharge t...  \n",
       "1  When prostate cancer recurs after initial trea...  "
      ]
     },
     "execution_count": 12,
     "metadata": {},
     "output_type": "execute_result"
    }
   ],
   "source": [
    "df.head(2)"
   ]
  },
  {
   "cell_type": "markdown",
   "metadata": {},
   "source": [
    "### Rename columns"
   ]
  },
  {
   "cell_type": "code",
   "execution_count": 13,
   "metadata": {},
   "outputs": [
    {
     "data": {
      "text/plain": [
       "Index(['Title1', 'Image1', 'inlineblock_URL', 'fontbold1', 'block1', 'Field1'], dtype='object')"
      ]
     },
     "execution_count": 13,
     "metadata": {},
     "output_type": "execute_result"
    }
   ],
   "source": [
    "df.columns"
   ]
  },
  {
   "cell_type": "code",
   "execution_count": 14,
   "metadata": {},
   "outputs": [],
   "source": [
    "df = df.rename(columns={\"Title1\": \"title\",\n",
    "                   \"Image1\": \"imageURL\",\n",
    "                   \"inlineblock_URL\": \"articleURL\",\n",
    "                   \"fontbold1\": \"category\",\n",
    "                   \"block1\": \"publishedDate\",\n",
    "                   \"Field1\": \"content\"\n",
    "                  })"
   ]
  },
  {
   "cell_type": "code",
   "execution_count": 15,
   "metadata": {
    "scrolled": true
   },
   "outputs": [
    {
     "data": {
      "text/html": [
       "<div>\n",
       "<style scoped>\n",
       "    .dataframe tbody tr th:only-of-type {\n",
       "        vertical-align: middle;\n",
       "    }\n",
       "\n",
       "    .dataframe tbody tr th {\n",
       "        vertical-align: top;\n",
       "    }\n",
       "\n",
       "    .dataframe thead th {\n",
       "        text-align: right;\n",
       "    }\n",
       "</style>\n",
       "<table border=\"1\" class=\"dataframe\">\n",
       "  <thead>\n",
       "    <tr style=\"text-align: right;\">\n",
       "      <th></th>\n",
       "      <th>title</th>\n",
       "      <th>imageURL</th>\n",
       "      <th>articleURL</th>\n",
       "      <th>category</th>\n",
       "      <th>publishedDate</th>\n",
       "      <th>content</th>\n",
       "    </tr>\n",
       "  </thead>\n",
       "  <tbody>\n",
       "    <tr>\n",
       "      <th>0</th>\n",
       "      <td>Immune boosts or busts? From IV drips and deto...</td>\n",
       "      <td>https://domf5oio6qrcr.cloudfront.net/medialibr...</td>\n",
       "      <td>https://www.health.harvard.edu/blog/immune-boo...</td>\n",
       "      <td>Staying Healthy</td>\n",
       "      <td>\\n            Published September 11, 2023\\n</td>\n",
       "      <td>Ads for products that promise to supercharge t...</td>\n",
       "    </tr>\n",
       "    <tr>\n",
       "      <th>1</th>\n",
       "      <td>After prostate cancer treatment, a new standar...</td>\n",
       "      <td>https://domf5oio6qrcr.cloudfront.net/medialibr...</td>\n",
       "      <td>https://www.health.harvard.edu/blog/after-pros...</td>\n",
       "      <td>Men's Health</td>\n",
       "      <td>\\n            Published December 20, 2023\\n</td>\n",
       "      <td>When prostate cancer recurs after initial trea...</td>\n",
       "    </tr>\n",
       "  </tbody>\n",
       "</table>\n",
       "</div>"
      ],
      "text/plain": [
       "                                               title  \\\n",
       "0  Immune boosts or busts? From IV drips and deto...   \n",
       "1  After prostate cancer treatment, a new standar...   \n",
       "\n",
       "                                            imageURL  \\\n",
       "0  https://domf5oio6qrcr.cloudfront.net/medialibr...   \n",
       "1  https://domf5oio6qrcr.cloudfront.net/medialibr...   \n",
       "\n",
       "                                          articleURL         category  \\\n",
       "0  https://www.health.harvard.edu/blog/immune-boo...  Staying Healthy   \n",
       "1  https://www.health.harvard.edu/blog/after-pros...     Men's Health   \n",
       "\n",
       "                                      publishedDate  \\\n",
       "0  \\n            Published September 11, 2023\\n       \n",
       "1   \\n            Published December 20, 2023\\n       \n",
       "\n",
       "                                             content  \n",
       "0  Ads for products that promise to supercharge t...  \n",
       "1  When prostate cancer recurs after initial trea...  "
      ]
     },
     "execution_count": 15,
     "metadata": {},
     "output_type": "execute_result"
    }
   ],
   "source": [
    "df.head(2)"
   ]
  },
  {
   "cell_type": "markdown",
   "metadata": {},
   "source": [
    "### Pre-process"
   ]
  },
  {
   "cell_type": "code",
   "execution_count": 16,
   "metadata": {},
   "outputs": [
    {
     "data": {
      "text/plain": [
       "'\\n            Published September 11, 2023\\n    '"
      ]
     },
     "execution_count": 16,
     "metadata": {},
     "output_type": "execute_result"
    }
   ],
   "source": [
    "df.publishedDate[0]"
   ]
  },
  {
   "cell_type": "markdown",
   "metadata": {},
   "source": [
    "- remove the newline character (\"\\n\"), spaces, and the word \"Published|Updated\" from the \"df['publishedDate']\" column"
   ]
  },
  {
   "cell_type": "code",
   "execution_count": 17,
   "metadata": {},
   "outputs": [],
   "source": [
    "df['publishedDate'] = df['publishedDate'].str.replace(r'\\n|\\s|Published|Updated', '', regex=True)"
   ]
  },
  {
   "cell_type": "code",
   "execution_count": 18,
   "metadata": {
    "scrolled": true
   },
   "outputs": [
    {
     "data": {
      "text/plain": [
       "0      September11,2023\n",
       "1       December20,2023\n",
       "2       December19,2023\n",
       "3       December18,2023\n",
       "4         January5,2022\n",
       "             ...       \n",
       "182       August17,2022\n",
       "183       August16,2022\n",
       "184       August15,2022\n",
       "185       August11,2022\n",
       "186       August23,2022\n",
       "Name: publishedDate, Length: 187, dtype: object"
      ]
     },
     "execution_count": 18,
     "metadata": {},
     "output_type": "execute_result"
    }
   ],
   "source": [
    "df['publishedDate']"
   ]
  },
  {
   "cell_type": "markdown",
   "metadata": {},
   "source": [
    "### Check NAN Values"
   ]
  },
  {
   "cell_type": "code",
   "execution_count": 19,
   "metadata": {},
   "outputs": [
    {
     "data": {
      "text/plain": [
       "0"
      ]
     },
     "execution_count": 19,
     "metadata": {},
     "output_type": "execute_result"
    }
   ],
   "source": [
    "df.isna().sum().sum()"
   ]
  },
  {
   "cell_type": "code",
   "execution_count": 20,
   "metadata": {},
   "outputs": [
    {
     "data": {
      "text/html": [
       "<div>\n",
       "<style scoped>\n",
       "    .dataframe tbody tr th:only-of-type {\n",
       "        vertical-align: middle;\n",
       "    }\n",
       "\n",
       "    .dataframe tbody tr th {\n",
       "        vertical-align: top;\n",
       "    }\n",
       "\n",
       "    .dataframe thead th {\n",
       "        text-align: right;\n",
       "    }\n",
       "</style>\n",
       "<table border=\"1\" class=\"dataframe\">\n",
       "  <thead>\n",
       "    <tr style=\"text-align: right;\">\n",
       "      <th></th>\n",
       "      <th>title</th>\n",
       "      <th>imageURL</th>\n",
       "      <th>articleURL</th>\n",
       "      <th>category</th>\n",
       "      <th>publishedDate</th>\n",
       "      <th>content</th>\n",
       "    </tr>\n",
       "  </thead>\n",
       "  <tbody>\n",
       "    <tr>\n",
       "      <th>0</th>\n",
       "      <td>Immune boosts or busts? From IV drips and deto...</td>\n",
       "      <td>https://domf5oio6qrcr.cloudfront.net/medialibr...</td>\n",
       "      <td>https://www.health.harvard.edu/blog/immune-boo...</td>\n",
       "      <td>Staying Healthy</td>\n",
       "      <td>September11,2023</td>\n",
       "      <td>Ads for products that promise to supercharge t...</td>\n",
       "    </tr>\n",
       "    <tr>\n",
       "      <th>1</th>\n",
       "      <td>After prostate cancer treatment, a new standar...</td>\n",
       "      <td>https://domf5oio6qrcr.cloudfront.net/medialibr...</td>\n",
       "      <td>https://www.health.harvard.edu/blog/after-pros...</td>\n",
       "      <td>Men's Health</td>\n",
       "      <td>December20,2023</td>\n",
       "      <td>When prostate cancer recurs after initial trea...</td>\n",
       "    </tr>\n",
       "    <tr>\n",
       "      <th>2</th>\n",
       "      <td>Chronic fatigue syndrome is rising</td>\n",
       "      <td>https://domf5oio6qrcr.cloudfront.net/medialibr...</td>\n",
       "      <td>https://www.health.harvard.edu/blog/chronic-fa...</td>\n",
       "      <td>Diseases &amp; Conditions</td>\n",
       "      <td>December19,2023</td>\n",
       "      <td>The CDC estimates that 3.3 million Americans h...</td>\n",
       "    </tr>\n",
       "    <tr>\n",
       "      <th>3</th>\n",
       "      <td>How healthy is sugar alcohol?</td>\n",
       "      <td>https://domf5oio6qrcr.cloudfront.net/medialibr...</td>\n",
       "      <td>https://www.health.harvard.edu/blog/how-health...</td>\n",
       "      <td>Nutrition</td>\n",
       "      <td>December18,2023</td>\n",
       "      <td>Food products advertised as being lower in sug...</td>\n",
       "    </tr>\n",
       "    <tr>\n",
       "      <th>4</th>\n",
       "      <td>Are poinsettias, mistletoe, or holly plants da...</td>\n",
       "      <td>https://domf5oio6qrcr.cloudfront.net/medialibr...</td>\n",
       "      <td>https://www.health.harvard.edu/blog/are-poinse...</td>\n",
       "      <td>Staying Healthy</td>\n",
       "      <td>January5,2022</td>\n",
       "      <td>It's commonly believed that poinsettia plants ...</td>\n",
       "    </tr>\n",
       "  </tbody>\n",
       "</table>\n",
       "</div>"
      ],
      "text/plain": [
       "                                               title  \\\n",
       "0  Immune boosts or busts? From IV drips and deto...   \n",
       "1  After prostate cancer treatment, a new standar...   \n",
       "2                 Chronic fatigue syndrome is rising   \n",
       "3                      How healthy is sugar alcohol?   \n",
       "4  Are poinsettias, mistletoe, or holly plants da...   \n",
       "\n",
       "                                            imageURL  \\\n",
       "0  https://domf5oio6qrcr.cloudfront.net/medialibr...   \n",
       "1  https://domf5oio6qrcr.cloudfront.net/medialibr...   \n",
       "2  https://domf5oio6qrcr.cloudfront.net/medialibr...   \n",
       "3  https://domf5oio6qrcr.cloudfront.net/medialibr...   \n",
       "4  https://domf5oio6qrcr.cloudfront.net/medialibr...   \n",
       "\n",
       "                                          articleURL               category  \\\n",
       "0  https://www.health.harvard.edu/blog/immune-boo...        Staying Healthy   \n",
       "1  https://www.health.harvard.edu/blog/after-pros...           Men's Health   \n",
       "2  https://www.health.harvard.edu/blog/chronic-fa...  Diseases & Conditions   \n",
       "3  https://www.health.harvard.edu/blog/how-health...              Nutrition   \n",
       "4  https://www.health.harvard.edu/blog/are-poinse...        Staying Healthy   \n",
       "\n",
       "      publishedDate                                            content  \n",
       "0  September11,2023  Ads for products that promise to supercharge t...  \n",
       "1   December20,2023  When prostate cancer recurs after initial trea...  \n",
       "2   December19,2023  The CDC estimates that 3.3 million Americans h...  \n",
       "3   December18,2023  Food products advertised as being lower in sug...  \n",
       "4     January5,2022  It's commonly believed that poinsettia plants ...  "
      ]
     },
     "execution_count": 20,
     "metadata": {},
     "output_type": "execute_result"
    }
   ],
   "source": [
    "df.head()"
   ]
  },
  {
   "cell_type": "markdown",
   "metadata": {},
   "source": [
    "# Convert text to Vector using S-BERT Model"
   ]
  },
  {
   "cell_type": "code",
   "execution_count": 21,
   "metadata": {},
   "outputs": [],
   "source": [
    "model = SentenceTransformer('all-mpnet-base-v2')"
   ]
  },
  {
   "cell_type": "code",
   "execution_count": 22,
   "metadata": {},
   "outputs": [
    {
     "name": "stderr",
     "output_type": "stream",
     "text": [
      "100%|████████████████████████████████████████████████████████████████████████████████| 187/187 [00:22<00:00,  8.14it/s]\n"
     ]
    }
   ],
   "source": [
    "df[\"description_vector\"] = df[\"content\"].progress_apply(lambda x: model.encode(x))"
   ]
  },
  {
   "cell_type": "code",
   "execution_count": 23,
   "metadata": {},
   "outputs": [
    {
     "data": {
      "text/html": [
       "<div>\n",
       "<style scoped>\n",
       "    .dataframe tbody tr th:only-of-type {\n",
       "        vertical-align: middle;\n",
       "    }\n",
       "\n",
       "    .dataframe tbody tr th {\n",
       "        vertical-align: top;\n",
       "    }\n",
       "\n",
       "    .dataframe thead th {\n",
       "        text-align: right;\n",
       "    }\n",
       "</style>\n",
       "<table border=\"1\" class=\"dataframe\">\n",
       "  <thead>\n",
       "    <tr style=\"text-align: right;\">\n",
       "      <th></th>\n",
       "      <th>title</th>\n",
       "      <th>imageURL</th>\n",
       "      <th>articleURL</th>\n",
       "      <th>category</th>\n",
       "      <th>publishedDate</th>\n",
       "      <th>content</th>\n",
       "      <th>description_vector</th>\n",
       "    </tr>\n",
       "  </thead>\n",
       "  <tbody>\n",
       "    <tr>\n",
       "      <th>0</th>\n",
       "      <td>Immune boosts or busts? From IV drips and deto...</td>\n",
       "      <td>https://domf5oio6qrcr.cloudfront.net/medialibr...</td>\n",
       "      <td>https://www.health.harvard.edu/blog/immune-boo...</td>\n",
       "      <td>Staying Healthy</td>\n",
       "      <td>September11,2023</td>\n",
       "      <td>Ads for products that promise to supercharge t...</td>\n",
       "      <td>[0.03048955, 0.015904073, -0.009512083, 0.0183...</td>\n",
       "    </tr>\n",
       "    <tr>\n",
       "      <th>1</th>\n",
       "      <td>After prostate cancer treatment, a new standar...</td>\n",
       "      <td>https://domf5oio6qrcr.cloudfront.net/medialibr...</td>\n",
       "      <td>https://www.health.harvard.edu/blog/after-pros...</td>\n",
       "      <td>Men's Health</td>\n",
       "      <td>December20,2023</td>\n",
       "      <td>When prostate cancer recurs after initial trea...</td>\n",
       "      <td>[0.03491495, 0.05657588, -0.00996043, -0.02672...</td>\n",
       "    </tr>\n",
       "  </tbody>\n",
       "</table>\n",
       "</div>"
      ],
      "text/plain": [
       "                                               title  \\\n",
       "0  Immune boosts or busts? From IV drips and deto...   \n",
       "1  After prostate cancer treatment, a new standar...   \n",
       "\n",
       "                                            imageURL  \\\n",
       "0  https://domf5oio6qrcr.cloudfront.net/medialibr...   \n",
       "1  https://domf5oio6qrcr.cloudfront.net/medialibr...   \n",
       "\n",
       "                                          articleURL         category  \\\n",
       "0  https://www.health.harvard.edu/blog/immune-boo...  Staying Healthy   \n",
       "1  https://www.health.harvard.edu/blog/after-pros...     Men's Health   \n",
       "\n",
       "      publishedDate                                            content  \\\n",
       "0  September11,2023  Ads for products that promise to supercharge t...   \n",
       "1   December20,2023  When prostate cancer recurs after initial trea...   \n",
       "\n",
       "                                  description_vector  \n",
       "0  [0.03048955, 0.015904073, -0.009512083, 0.0183...  \n",
       "1  [0.03491495, 0.05657588, -0.00996043, -0.02672...  "
      ]
     },
     "execution_count": 23,
     "metadata": {},
     "output_type": "execute_result"
    }
   ],
   "source": [
    "df.head(2)"
   ]
  },
  {
   "cell_type": "code",
   "execution_count": 25,
   "metadata": {},
   "outputs": [
    {
     "data": {
      "text/plain": [
       "True"
      ]
     },
     "execution_count": 25,
     "metadata": {},
     "output_type": "execute_result"
    }
   ],
   "source": [
    "client.ping()"
   ]
  },
  {
   "cell_type": "markdown",
   "metadata": {},
   "source": [
    "# Create new index"
   ]
  },
  {
   "cell_type": "code",
   "execution_count": 28,
   "metadata": {},
   "outputs": [],
   "source": [
    "from indexMapping import indexMapping"
   ]
  },
  {
   "cell_type": "code",
   "execution_count": 26,
   "metadata": {},
   "outputs": [],
   "source": [
    "# es.indices.create(index=\"all_documents\", mappings= indexMapping)"
   ]
  },
  {
   "cell_type": "code",
   "execution_count": 29,
   "metadata": {},
   "outputs": [
    {
     "name": "stdout",
     "output_type": "stream",
     "text": [
      "Index 'medical_documents' created successfully.\n"
     ]
    }
   ],
   "source": [
    "index_name = \"medical_documents\"\n",
    "if not client.indices.exists(index=index_name):\n",
    "    client.indices.create(index=index_name, mappings=indexMapping)\n",
    "    print(f\"Index '{index_name}' created successfully.\")\n",
    "else:\n",
    "    print(f\"Index '{index_name}' already exists.\")"
   ]
  },
  {
   "cell_type": "code",
   "execution_count": 30,
   "metadata": {},
   "outputs": [],
   "source": [
    "records_list = df.to_dict(\"records\")"
   ]
  },
  {
   "cell_type": "code",
   "execution_count": 31,
   "metadata": {},
   "outputs": [
    {
     "data": {
      "text/plain": [
       "187"
      ]
     },
     "execution_count": 31,
     "metadata": {},
     "output_type": "execute_result"
    }
   ],
   "source": [
    "len(records_list)"
   ]
  },
  {
   "cell_type": "code",
   "execution_count": 32,
   "metadata": {},
   "outputs": [],
   "source": [
    "for record in records_list:\n",
    "    try:\n",
    "        client.index(index= index_name, document=record)\n",
    "    except Exception as e:\n",
    "        print(e)"
   ]
  },
  {
   "cell_type": "code",
   "execution_count": 33,
   "metadata": {},
   "outputs": [
    {
     "data": {
      "text/plain": [
       "ObjectApiResponse({'count': 187, '_shards': {'total': 1, 'successful': 1, 'skipped': 0, 'failed': 0}})"
      ]
     },
     "execution_count": 33,
     "metadata": {},
     "output_type": "execute_result"
    }
   ],
   "source": [
    "client.count(index= index_name)"
   ]
  },
  {
   "cell_type": "markdown",
   "metadata": {},
   "source": [
    "# Searching documents:"
   ]
  },
  {
   "cell_type": "code",
   "execution_count": 103,
   "metadata": {},
   "outputs": [
    {
     "data": {
      "text/plain": [
       "Index(['title', 'imageURL', 'articleURL', 'category', 'publishedDate',\n",
       "       'content', 'description_vector'],\n",
       "      dtype='object')"
      ]
     },
     "execution_count": 103,
     "metadata": {},
     "output_type": "execute_result"
    }
   ],
   "source": [
    "df.columns"
   ]
  },
  {
   "cell_type": "code",
   "execution_count": 35,
   "metadata": {
    "scrolled": true
   },
   "outputs": [
    {
     "name": "stdout",
     "output_type": "stream",
     "text": [
      "Document score: 0.51011306\n",
      "Document Title: Magnets, sound, and batteries: Choosing safe toys\n",
      "Document Text: If you're choosing gifts to give or donate to children this year, be sure safety is on the list. Here are tips for toys to consider — those that encourage creativity, imagination, and movement  — and toys to try to avoid, due to safety concerns or for other reasons.\n",
      "__________________________________________________\n",
      "Document score: 0.42306823\n",
      "Document Title: Play helps children practice key skills and build their strengths\n",
      "Document Text: As devices become more pervasive, and as many children become more scheduled with lessons and organized activities, making time for device-free play can be a challenge. Here's why it's important prioritize free play in a child's life.\n",
      "__________________________________________________\n",
      "Document score: 0.40329963\n",
      "Document Title: What happens when a drug goes viral?\n",
      "Document Text: \n",
      "__________________________________________________\n",
      "Document score: 0.38846266\n",
      "Document Title: A muscle-building obsession in boys: What to know and do\n",
      "Document Text: Muscle dysmorphia is a preoccupation with a muscular and lean physique that is more pervasive in boys. Learn the signs of body dysmorphia as well as ways to encourage positive body image.\n",
      "__________________________________________________\n",
      "Document score: 0.3878574\n",
      "Document Title: Why play? Early games build bonds and brain\n",
      "Document Text: More than a million nerve connections are made in the brain in the first few years of life. Babies and young children thrive with responsive caregiving, such as engaging a child in playful games that change as they grow.\n",
      "__________________________________________________\n"
     ]
    },
    {
     "name": "stderr",
     "output_type": "stream",
     "text": [
      "C:\\Users\\Honor\\AppData\\Local\\Temp\\ipykernel_24056\\184663085.py:11: ElasticsearchWarning: The kNN search API has been replaced by the `knn` option in the search API.\n",
      "  res = client.knn_search(index= index_name , knn=query, source=['title', 'imageURL', 'articleURL', 'category', 'publishedDate',\n"
     ]
    }
   ],
   "source": [
    "user_input = \"toys\"\n",
    "vector_input = model.encode(user_input)\n",
    "\n",
    "query = {\n",
    "    \"field\": \"description_vector\",\n",
    "    \"query_vector\": vector_input,\n",
    "    \"k\":5,\n",
    "    \"num_candidates\": 200,\n",
    "}\n",
    "\n",
    "res = client.knn_search(index= index_name , knn=query, source=['title', 'imageURL', 'articleURL', 'category', 'publishedDate',\n",
    "       'content'])\n",
    "\n",
    "results = res[\"hits\"][\"hits\"]\n",
    "\n",
    "for result in results:\n",
    "    if \"_source\" in result:\n",
    "        try:\n",
    "            print(f\"Document score: {result['_score']}\")\n",
    "            print(f\"Document Title: {result['_source']['title']}\")\n",
    "            print(f\"Document Text: {result['_source']['content']}\")\n",
    "            print(50*\"_\")\n",
    "        except Exception as e:\n",
    "            print(e)\n",
    "    \n",
    "\n",
    "# results\n",
    "# relevants_docs\n",
    "# score = res[\"hits\"][:max_score]\n",
    "# score"
   ]
  },
  {
   "cell_type": "code",
   "execution_count": null,
   "metadata": {},
   "outputs": [],
   "source": []
  }
 ],
 "metadata": {
  "kernelspec": {
   "display_name": "Python 3 (ipykernel)",
   "language": "python",
   "name": "python3"
  },
  "language_info": {
   "codemirror_mode": {
    "name": "ipython",
    "version": 3
   },
   "file_extension": ".py",
   "mimetype": "text/x-python",
   "name": "python",
   "nbconvert_exporter": "python",
   "pygments_lexer": "ipython3",
   "version": "3.9.13"
  }
 },
 "nbformat": 4,
 "nbformat_minor": 2
}
