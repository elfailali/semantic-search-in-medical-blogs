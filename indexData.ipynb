{
 "cells": [
  {
   "cell_type": "code",
   "execution_count": 76,
   "metadata": {},
   "outputs": [
    {
     "name": "stdout",
     "output_type": "stream",
     "text": [
      "Requirement already satisfied: elasticsearch in c:\\users\\honor\\anaconda3\\lib\\site-packages (8.11.0)\n",
      "Requirement already satisfied: elastic-transport<9,>=8 in c:\\users\\honor\\anaconda3\\lib\\site-packages (from elasticsearch) (8.10.0)\n",
      "Requirement already satisfied: urllib3<3,>=1.26.2 in c:\\users\\honor\\anaconda3\\lib\\site-packages (from elastic-transport<9,>=8->elasticsearch) (1.26.11)\n",
      "Requirement already satisfied: certifi in c:\\users\\honor\\appdata\\roaming\\python\\python39\\site-packages (from elastic-transport<9,>=8->elasticsearch) (2022.12.7)\n"
     ]
    }
   ],
   "source": [
    "!pip install elasticsearch"
   ]
  },
  {
   "cell_type": "code",
   "execution_count": 2,
   "metadata": {},
   "outputs": [
    {
     "name": "stderr",
     "output_type": "stream",
     "text": [
      "C:\\Users\\Honor\\anaconda3\\lib\\site-packages\\numpy\\_distributor_init.py:30: UserWarning: loaded more than 1 DLL from .libs:\n",
      "C:\\Users\\Honor\\anaconda3\\lib\\site-packages\\numpy\\.libs\\libopenblas.FB5AE2TYXYH2IJRDKGDGQ3XBKLKTF43H.gfortran-win_amd64.dll\n",
      "C:\\Users\\Honor\\anaconda3\\lib\\site-packages\\numpy\\.libs\\libopenblas64__v0.3.21-gcc_10_3_0.dll\n",
      "  warnings.warn(\"loaded more than 1 DLL from .libs:\"\n"
     ]
    }
   ],
   "source": [
    "import pandas as pd\n",
    "from elasticsearch import Elasticsearch"
   ]
  },
  {
   "cell_type": "code",
   "execution_count": 3,
   "metadata": {},
   "outputs": [],
   "source": [
    "es = Elasticsearch('http://localhost:9200/')"
   ]
  },
  {
   "cell_type": "code",
   "execution_count": 4,
   "metadata": {},
   "outputs": [
    {
     "data": {
      "text/plain": [
       "True"
      ]
     },
     "execution_count": 4,
     "metadata": {},
     "output_type": "execute_result"
    }
   ],
   "source": [
    "es.ping()"
   ]
  },
  {
   "cell_type": "code",
   "execution_count": 23,
   "metadata": {},
   "outputs": [],
   "source": [
    "import tensorflow"
   ]
  },
  {
   "cell_type": "code",
   "execution_count": 26,
   "metadata": {},
   "outputs": [
    {
     "name": "stdout",
     "output_type": "stream",
     "text": [
      "Name: Pillow\n",
      "Version: 10.0.1\n",
      "Summary: Python Imaging Library (Fork)\n",
      "Home-page: https://python-pillow.org\n",
      "Author: Jeffrey A. Clark (Alex)\n",
      "Author-email: aclark@aclark.net\n",
      "License: HPND\n",
      "Location: c:\\users\\honor\\anaconda3\\lib\\site-packages\n",
      "Requires: \n",
      "Required-by: bokeh, datashader, imageio, matplotlib, pdfplumber, pytesseract, roboflow, scikit-image, supervision, torchvision, ultralytics\n",
      "Note: you may need to restart the kernel to use updated packages.\n"
     ]
    }
   ],
   "source": [
    "pip show Pillow\n"
   ]
  },
  {
   "cell_type": "code",
   "execution_count": 81,
   "metadata": {},
   "outputs": [
    {
     "name": "stdout",
     "output_type": "stream",
     "text": [
      "Name: elasticsearch\n",
      "Version: 8.11.0\n",
      "Summary: Python client for Elasticsearch\n",
      "Home-page: https://github.com/elastic/elasticsearch-py\n",
      "Author: Elastic Client Library Maintainers\n",
      "Author-email: client-libs@elastic.co\n",
      "License: Apache-2.0\n",
      "Location: c:\\users\\honor\\anaconda3\\lib\\site-packages\n",
      "Requires: elastic-transport\n",
      "Required-by: \n",
      "Note: you may need to restart the kernel to use updated packages.\n"
     ]
    }
   ],
   "source": [
    "pip show elasticsearch"
   ]
  },
  {
   "cell_type": "markdown",
   "metadata": {},
   "source": [
    "# Prepare the data"
   ]
  },
  {
   "cell_type": "code",
   "execution_count": 5,
   "metadata": {},
   "outputs": [],
   "source": [
    "df = pd.read_csv(\"data/medical_tc_train.csv\").loc[:100]"
   ]
  },
  {
   "cell_type": "code",
   "execution_count": 6,
   "metadata": {},
   "outputs": [],
   "source": [
    "# df_pm = pd.read_csv(\"data/Pubmed_200k_RCT/train.csv\").loc[:100]"
   ]
  },
  {
   "cell_type": "code",
   "execution_count": 7,
   "metadata": {},
   "outputs": [
    {
     "data": {
      "text/html": [
       "<div>\n",
       "<style scoped>\n",
       "    .dataframe tbody tr th:only-of-type {\n",
       "        vertical-align: middle;\n",
       "    }\n",
       "\n",
       "    .dataframe tbody tr th {\n",
       "        vertical-align: top;\n",
       "    }\n",
       "\n",
       "    .dataframe thead th {\n",
       "        text-align: right;\n",
       "    }\n",
       "</style>\n",
       "<table border=\"1\" class=\"dataframe\">\n",
       "  <thead>\n",
       "    <tr style=\"text-align: right;\">\n",
       "      <th></th>\n",
       "      <th>condition_label</th>\n",
       "      <th>medical_abstract</th>\n",
       "    </tr>\n",
       "  </thead>\n",
       "  <tbody>\n",
       "    <tr>\n",
       "      <th>0</th>\n",
       "      <td>5</td>\n",
       "      <td>Tissue changes around loose prostheses. A cani...</td>\n",
       "    </tr>\n",
       "    <tr>\n",
       "      <th>1</th>\n",
       "      <td>1</td>\n",
       "      <td>Neuropeptide Y and neuron-specific enolase lev...</td>\n",
       "    </tr>\n",
       "    <tr>\n",
       "      <th>2</th>\n",
       "      <td>2</td>\n",
       "      <td>Sexually transmitted diseases of the colon, re...</td>\n",
       "    </tr>\n",
       "    <tr>\n",
       "      <th>3</th>\n",
       "      <td>1</td>\n",
       "      <td>Lipolytic factors associated with murine and h...</td>\n",
       "    </tr>\n",
       "    <tr>\n",
       "      <th>4</th>\n",
       "      <td>3</td>\n",
       "      <td>Does carotid restenosis predict an increased r...</td>\n",
       "    </tr>\n",
       "  </tbody>\n",
       "</table>\n",
       "</div>"
      ],
      "text/plain": [
       "   condition_label                                   medical_abstract\n",
       "0                5  Tissue changes around loose prostheses. A cani...\n",
       "1                1  Neuropeptide Y and neuron-specific enolase lev...\n",
       "2                2  Sexually transmitted diseases of the colon, re...\n",
       "3                1  Lipolytic factors associated with murine and h...\n",
       "4                3  Does carotid restenosis predict an increased r..."
      ]
     },
     "execution_count": 7,
     "metadata": {},
     "output_type": "execute_result"
    }
   ],
   "source": [
    "df.head()"
   ]
  },
  {
   "cell_type": "code",
   "execution_count": 8,
   "metadata": {},
   "outputs": [
    {
     "data": {
      "text/plain": [
       "0"
      ]
     },
     "execution_count": 8,
     "metadata": {},
     "output_type": "execute_result"
    }
   ],
   "source": [
    "df.isna().sum().sum()"
   ]
  },
  {
   "cell_type": "code",
   "execution_count": null,
   "metadata": {},
   "outputs": [],
   "source": []
  },
  {
   "cell_type": "markdown",
   "metadata": {},
   "source": [
    "# Convert text to Vector using S-BERT Model"
   ]
  },
  {
   "cell_type": "code",
   "execution_count": 9,
   "metadata": {},
   "outputs": [],
   "source": [
    "from tqdm import tqdm\n",
    "tqdm.pandas()\n"
   ]
  },
  {
   "cell_type": "code",
   "execution_count": 10,
   "metadata": {},
   "outputs": [],
   "source": [
    "from sentence_transformers import SentenceTransformer"
   ]
  },
  {
   "cell_type": "code",
   "execution_count": 11,
   "metadata": {},
   "outputs": [],
   "source": [
    "model = SentenceTransformer('all-mpnet-base-v2')"
   ]
  },
  {
   "cell_type": "code",
   "execution_count": 12,
   "metadata": {},
   "outputs": [
    {
     "name": "stderr",
     "output_type": "stream",
     "text": [
      "100%|████████████████████████████████████████████████████████████████████████████████| 101/101 [02:38<00:00,  1.57s/it]\n"
     ]
    }
   ],
   "source": [
    "df[\"description_vector\"] = df[\"medical_abstract\"].progress_apply(lambda x: model.encode(x))"
   ]
  },
  {
   "cell_type": "code",
   "execution_count": 13,
   "metadata": {},
   "outputs": [
    {
     "data": {
      "text/html": [
       "<div>\n",
       "<style scoped>\n",
       "    .dataframe tbody tr th:only-of-type {\n",
       "        vertical-align: middle;\n",
       "    }\n",
       "\n",
       "    .dataframe tbody tr th {\n",
       "        vertical-align: top;\n",
       "    }\n",
       "\n",
       "    .dataframe thead th {\n",
       "        text-align: right;\n",
       "    }\n",
       "</style>\n",
       "<table border=\"1\" class=\"dataframe\">\n",
       "  <thead>\n",
       "    <tr style=\"text-align: right;\">\n",
       "      <th></th>\n",
       "      <th>condition_label</th>\n",
       "      <th>medical_abstract</th>\n",
       "      <th>description_vector</th>\n",
       "    </tr>\n",
       "  </thead>\n",
       "  <tbody>\n",
       "    <tr>\n",
       "      <th>0</th>\n",
       "      <td>5</td>\n",
       "      <td>Tissue changes around loose prostheses. A cani...</td>\n",
       "      <td>[-0.0076953364, -0.029528731, 0.009244567, -0....</td>\n",
       "    </tr>\n",
       "    <tr>\n",
       "      <th>1</th>\n",
       "      <td>1</td>\n",
       "      <td>Neuropeptide Y and neuron-specific enolase lev...</td>\n",
       "      <td>[0.049338676, -0.00904814, 0.06583269, 0.01739...</td>\n",
       "    </tr>\n",
       "    <tr>\n",
       "      <th>2</th>\n",
       "      <td>2</td>\n",
       "      <td>Sexually transmitted diseases of the colon, re...</td>\n",
       "      <td>[0.055318918, 0.028947582, -0.00078177685, -0....</td>\n",
       "    </tr>\n",
       "    <tr>\n",
       "      <th>3</th>\n",
       "      <td>1</td>\n",
       "      <td>Lipolytic factors associated with murine and h...</td>\n",
       "      <td>[0.051143337, 0.0036285874, 0.053873442, -0.00...</td>\n",
       "    </tr>\n",
       "    <tr>\n",
       "      <th>4</th>\n",
       "      <td>3</td>\n",
       "      <td>Does carotid restenosis predict an increased r...</td>\n",
       "      <td>[0.010875214, 0.030527258, 0.0020399122, -0.02...</td>\n",
       "    </tr>\n",
       "  </tbody>\n",
       "</table>\n",
       "</div>"
      ],
      "text/plain": [
       "   condition_label                                   medical_abstract  \\\n",
       "0                5  Tissue changes around loose prostheses. A cani...   \n",
       "1                1  Neuropeptide Y and neuron-specific enolase lev...   \n",
       "2                2  Sexually transmitted diseases of the colon, re...   \n",
       "3                1  Lipolytic factors associated with murine and h...   \n",
       "4                3  Does carotid restenosis predict an increased r...   \n",
       "\n",
       "                                  description_vector  \n",
       "0  [-0.0076953364, -0.029528731, 0.009244567, -0....  \n",
       "1  [0.049338676, -0.00904814, 0.06583269, 0.01739...  \n",
       "2  [0.055318918, 0.028947582, -0.00078177685, -0....  \n",
       "3  [0.051143337, 0.0036285874, 0.053873442, -0.00...  \n",
       "4  [0.010875214, 0.030527258, 0.0020399122, -0.02...  "
      ]
     },
     "execution_count": 13,
     "metadata": {},
     "output_type": "execute_result"
    }
   ],
   "source": [
    "df.head()"
   ]
  },
  {
   "cell_type": "code",
   "execution_count": 14,
   "metadata": {},
   "outputs": [
    {
     "data": {
      "text/plain": [
       "True"
      ]
     },
     "execution_count": 14,
     "metadata": {},
     "output_type": "execute_result"
    }
   ],
   "source": [
    "es.ping()"
   ]
  },
  {
   "cell_type": "markdown",
   "metadata": {},
   "source": [
    "# Create new index"
   ]
  },
  {
   "cell_type": "code",
   "execution_count": 15,
   "metadata": {},
   "outputs": [],
   "source": [
    "from indexMapping import indexMapping"
   ]
  },
  {
   "cell_type": "code",
   "execution_count": 16,
   "metadata": {},
   "outputs": [
    {
     "data": {
      "text/plain": [
       "ObjectApiResponse({'acknowledged': True, 'shards_acknowledged': True, 'index': 'all_documents'})"
      ]
     },
     "execution_count": 16,
     "metadata": {},
     "output_type": "execute_result"
    }
   ],
   "source": [
    "es.indices.create(index=\"all_documents\", mappings= indexMapping)"
   ]
  },
  {
   "cell_type": "code",
   "execution_count": null,
   "metadata": {},
   "outputs": [],
   "source": []
  },
  {
   "cell_type": "code",
   "execution_count": 17,
   "metadata": {},
   "outputs": [],
   "source": [
    "records_list = df.to_dict(\"records\")"
   ]
  },
  {
   "cell_type": "code",
   "execution_count": 18,
   "metadata": {},
   "outputs": [
    {
     "data": {
      "text/plain": [
       "5"
      ]
     },
     "execution_count": 18,
     "metadata": {},
     "output_type": "execute_result"
    }
   ],
   "source": [
    "records_list[0][\"condition_label\"]"
   ]
  },
  {
   "cell_type": "code",
   "execution_count": 19,
   "metadata": {},
   "outputs": [],
   "source": [
    "for record in records_list:\n",
    "    try:\n",
    "        es.index(index=\"all_documents\", document=record)\n",
    "    except Exception as e:\n",
    "        print(e)"
   ]
  },
  {
   "cell_type": "code",
   "execution_count": 20,
   "metadata": {},
   "outputs": [
    {
     "data": {
      "text/plain": [
       "ObjectApiResponse({'count': 101, '_shards': {'total': 1, 'successful': 1, 'skipped': 0, 'failed': 0}})"
      ]
     },
     "execution_count": 20,
     "metadata": {},
     "output_type": "execute_result"
    }
   ],
   "source": [
    "es.count(index=\"all_documents\")"
   ]
  },
  {
   "cell_type": "markdown",
   "metadata": {},
   "source": [
    "# Searching documents:"
   ]
  },
  {
   "cell_type": "code",
   "execution_count": 21,
   "metadata": {},
   "outputs": [
    {
     "name": "stderr",
     "output_type": "stream",
     "text": [
      "C:\\Users\\Honor\\AppData\\Local\\Temp\\ipykernel_20212\\1266375494.py:11: ElasticsearchWarning: The kNN search API has been replaced by the `knn` option in the search API.\n",
      "  res = es.knn_search(index=\"all_documents\", knn=query, source=[\"medical_abstract\"])\n"
     ]
    },
    {
     "data": {
      "text/plain": [
       "[{'_index': 'all_documents',\n",
       "  '_id': 'nPkXTYwBIH9pooElEBJp',\n",
       "  '_score': 0.42266774,\n",
       "  '_source': {'medical_abstract': 'The prolonged burner syndrome. Over the course of a single football season, six players evaluated by the medical staff had burners that displayed a prolonged neurologic recovery. These players were examined and subsequently evaluated with isokinetic testing and electrodiagnostic studies to elucidate better the short-term natural history of the prolonged burner syndrome. Evidence of muscular weakness at 72 hours postinjury best correlated with positive electrodiagnostic findings. No correlation was found between the initial physical examination findings and the results of electrodiagnostic testing. Isokinetic strength evaluation demonstrated many relative strength differences that were difficult to discern with manual muscle testing. The return of a player to athletic competition following this injury should largely be based on the clinical examination. '}},\n",
       " {'_index': 'all_documents',\n",
       "  '_id': 'RfkWTYwBIH9pooEl-RIQ',\n",
       "  '_score': 0.359434,\n",
       "  '_source': {'medical_abstract': \"The shoulder in multiple epiphyseal dysplasia. One hundred shoulders were assessed in 50 patients with multiple epiphyseal dysplasia, of which one-third were found to have bilateral symptoms. Two distinct clinical and radiological groups emerged. Those with minor epiphyseal abnormalities developed painful osteoarthritis in middle age, but retained shoulder movement until the secondary changes were advanced. Those with 'hatchet head' shoulders likewise became painful in the fifth and sixth decades but had minimal glenohumeral movement from an early stage. \"}},\n",
       " {'_index': 'all_documents',\n",
       "  '_id': 'YvkXTYwBIH9pooElARI9',\n",
       "  '_score': 0.35070375,\n",
       "  '_source': {'medical_abstract': 'Feasibility of digital teleradiology for imaging evaluation of patients with acute right upper quadrant abdominal pain. To assess the utility of a commercially available digital teleradiology system in evaluating patients with acute pain in the right upper quadrant, hard-copy images from 100 examinations (50 hepatobiliary scintigrams and 50 sonograms of the right upper quadrant) were digitized, transmitted via standard telephone lines, and viewed remotely on a video monitor. Video and hard-copy interpretations were then compared for degree of concordance. For the scintigraphic studies, hard-copy and video images were equal in demonstrating gallbladder and bile duct activity. Video images failed to depict the presence of bowel activity in one case. Gallstones were depicted equally well on hard-copy and video sonographic images. The video interpreters overestimated the presence of abnormal hepatic parenchyma and overlooked one case of right hydronephrosis. The video interpretations of the scintigrams and sonograms showed an overall error rate of 4%, comparable to the rate obtained when radiographs are interpreted remotely with digital teleradiology systems. '}},\n",
       " {'_index': 'all_documents',\n",
       "  '_id': 'S_kWTYwBIH9pooEl-hKN',\n",
       "  '_score': 0.35003638,\n",
       "  '_source': {'medical_abstract': \"Imaging bone tumors in the 1990s. Progress in bone tumor management has occurred as a result of cooperation among surgeons, oncologists, pathologists, and radiologists. During the 1990s radiologists will contribute to care of patients with bone tumors in major ways. Tumor detection and preliminary diagnosis will be accomplished by radiography. Tumor local extent will be assessed by magnetic resonance imaging (MRI) and to a lesser degree by computed tomography (CT). Distant spread of malignancy will be documented by radionuclide scintigraphy (skeleton) and by CT (lungs). The combined estimate of local extent and distant spread will assure adequate staging before definitive management decisions. Preoperative closed percutaneous biopsy for histologic diagnosis will be accomplished on an outpatient basis under fluoroscopic or CT guidance. Arteriography will be employed for delivery of local chemotherapy. Some combination of arteriography, MRI, and MR spectroscopy will be used to evaluate tumor response. After limb-salvage surgery, MRI will sequentially assess the tumor bed; bone scintigraphy and CT will detect skeletal and pulmonary metastases. The radiologist's role will undergo continuous redefinition. \"}},\n",
       " {'_index': 'all_documents',\n",
       "  '_id': 'jPkXTYwBIH9pooElDBJu',\n",
       "  '_score': 0.34590673,\n",
       "  '_source': {'medical_abstract': 'Family recovery after vascular surgery. Twenty-one families were observed in a 3-month study to assess family coping with major vascular surgery and recovery. Analysis of family measures data (the Family APGAR, the Family Inventory of Resource for Management, and the Family Crisis Oriented Personal Evaluation Scales) was combined with grounded theory method to assess family responses over time and recovery outcomes. Containment emerged as the major conceptual category of the grounded theory. Containment refers to a constellation of constructed meanings for events and behavioral responses used by families to regulate the impact of the surgical crisis and reduce family disruption. This \"contained\" coping pattern was manifested in families\\' avoidant behaviors and narrow definitions of the problem: that is, they defined their situation in terms of the surgical repair as cure rather than palliative intervention for a chronic, progressive disease. Situational factors such as the insidious development of the illness and the primary focus of care providers in the hospital on surgical care (allowing families\\' narrow definitions of their situation to remain unchallenged) also contributed to containment. Containment resulted in poor risk factor management as a major recovery outcome. Isolation and family conflict were evident throughout the recovery period. Concerns generated by continued evidence of morbidity during recovery contributed to a developing awareness of underlying disease, and diminishing containment when this growing awareness was openly shared within the family. Significant findings of the family measures analysis were compared with the grounded theory of the qualitative data. Each corroborated the other in key dimensions. '}}]"
      ]
     },
     "execution_count": 21,
     "metadata": {},
     "output_type": "execute_result"
    }
   ],
   "source": [
    "user_input = \"football\"\n",
    "vector_input = model.encode(user_input)\n",
    "\n",
    "query = {\n",
    "    \"field\": \"description_vector\",\n",
    "    \"query_vector\": vector_input,\n",
    "    \"k\":5,\n",
    "    \"num_candidates\": 100,\n",
    "}\n",
    "\n",
    "res = es.knn_search(index=\"all_documents\", knn=query, source=[\"medical_abstract\"])\n",
    "\n",
    "res[\"hits\"][\"hits\"]"
   ]
  },
  {
   "cell_type": "code",
   "execution_count": null,
   "metadata": {},
   "outputs": [],
   "source": []
  }
 ],
 "metadata": {
  "kernelspec": {
   "display_name": "Python 3 (ipykernel)",
   "language": "python",
   "name": "python3"
  },
  "language_info": {
   "codemirror_mode": {
    "name": "ipython",
    "version": 3
   },
   "file_extension": ".py",
   "mimetype": "text/x-python",
   "name": "python",
   "nbconvert_exporter": "python",
   "pygments_lexer": "ipython3",
   "version": "3.9.13"
  }
 },
 "nbformat": 4,
 "nbformat_minor": 2
}
