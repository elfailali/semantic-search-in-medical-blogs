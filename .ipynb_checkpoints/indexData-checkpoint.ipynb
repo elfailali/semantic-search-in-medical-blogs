{
 "cells": [
  {
   "cell_type": "code",
   "execution_count": 9,
   "metadata": {},
   "outputs": [
    {
     "name": "stdout",
     "output_type": "stream",
     "text": [
      "Collecting elasticsearch\n",
      "  Obtaining dependency information for elasticsearch from https://files.pythonhosted.org/packages/b5/5f/b3d882187e561aacdf4e10d301eba8efd8965e97fb0ab4ce99f1cc647ee1/elasticsearch-8.11.0-py3-none-any.whl.metadata\n",
      "  Using cached elasticsearch-8.11.0-py3-none-any.whl.metadata (5.1 kB)\n",
      "Collecting elastic-transport<9,>=8 (from elasticsearch)\n",
      "  Obtaining dependency information for elastic-transport<9,>=8 from https://files.pythonhosted.org/packages/45/e3/e1bc11677b89030c4ffbf464177b64c533df85cde655e3ecc66bda99b3e5/elastic_transport-8.10.0-py3-none-any.whl.metadata\n",
      "  Using cached elastic_transport-8.10.0-py3-none-any.whl.metadata (3.5 kB)\n",
      "Requirement already satisfied: urllib3<3,>=1.26.2 in c:\\users\\honor\\anaconda3\\lib\\site-packages (from elastic-transport<9,>=8->elasticsearch) (1.26.11)\n",
      "Requirement already satisfied: certifi in c:\\users\\honor\\appdata\\roaming\\python\\python39\\site-packages (from elastic-transport<9,>=8->elasticsearch) (2022.12.7)\n",
      "Downloading elasticsearch-8.11.0-py3-none-any.whl (412 kB)\n",
      "   --------------------------------------- 412.6/412.6 kB 10.6 kB/s eta 0:00:00\n",
      "Downloading elastic_transport-8.10.0-py3-none-any.whl (59 kB)\n",
      "   ---------------------------------------- 59.8/59.8 kB 9.4 kB/s eta 0:00:00\n",
      "Installing collected packages: elastic-transport, elasticsearch\n",
      "Successfully installed elastic-transport-8.10.0 elasticsearch-8.11.0\n"
     ]
    }
   ],
   "source": [
    "!pip install elasticsearch"
   ]
  },
  {
   "cell_type": "code",
   "execution_count": 12,
   "metadata": {},
   "outputs": [],
   "source": [
    "import pandas as pd\n",
    "from elasticsearch import Elasticsearch"
   ]
  },
  {
   "cell_type": "code",
   "execution_count": 21,
   "metadata": {},
   "outputs": [],
   "source": [
    "ELASTIC_PASSWORD = \"<password>\""
   ]
  },
  {
   "cell_type": "code",
   "execution_count": 31,
   "metadata": {},
   "outputs": [],
   "source": [
    "es = Elasticsearch(['http://localhost:9200/'], verify_certs=True)\n"
   ]
  },
  {
   "cell_type": "code",
   "execution_count": null,
   "metadata": {},
   "outputs": [],
   "source": [
    "from elasticsearch import Elasticsearch\n",
    "\n",
    "es = Elasticsearch(\n",
    "    ['es01'],\n",
    "    scheme=\"http\",\n",
    "    port=9200,\n",
    ")\n",
    "if not es.ping():\n",
    "    print(\"Connection failed\")\n",
    "else:\n",
    "    print(\"Connection successful\")"
   ]
  },
  {
   "cell_type": "code",
   "execution_count": 32,
   "metadata": {},
   "outputs": [
    {
     "data": {
      "text/plain": [
       "False"
      ]
     },
     "execution_count": 32,
     "metadata": {},
     "output_type": "execute_result"
    }
   ],
   "source": [
    "es.ping()"
   ]
  },
  {
   "cell_type": "code",
   "execution_count": null,
   "metadata": {},
   "outputs": [],
   "source": []
  }
 ],
 "metadata": {
  "kernelspec": {
   "display_name": "Python 3 (ipykernel)",
   "language": "python",
   "name": "python3"
  },
  "language_info": {
   "codemirror_mode": {
    "name": "ipython",
    "version": 3
   },
   "file_extension": ".py",
   "mimetype": "text/x-python",
   "name": "python",
   "nbconvert_exporter": "python",
   "pygments_lexer": "ipython3",
   "version": "3.9.13"
  }
 },
 "nbformat": 4,
 "nbformat_minor": 2
}
