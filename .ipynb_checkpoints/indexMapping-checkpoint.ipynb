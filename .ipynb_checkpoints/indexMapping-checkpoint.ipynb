{
 "cells": [
  {
   "cell_type": "code",
   "execution_count": 1,
   "id": "9d632aef",
   "metadata": {},
   "outputs": [],
   "source": [
    "# Mapping is the process of defining how a document, and the fields it contains, are stored and indexed."
   ]
  },
  {
   "cell_type": "code",
   "execution_count": null,
   "id": "8de68713",
   "metadata": {},
   "outputs": [],
   "source": [
    "indexMapping = {\n",
    "    \"properties\" : {\n",
    "        \"condition_label\" : {\n",
    "            \"type\" : \"long\"\n",
    "        },\n",
    "        \"medical_abstract\" : {\n",
    "            \"type\" : \"text\"\n",
    "        },\n",
    "        \"description_vector\" : {\n",
    "            \"type\" : \"dense_vector\",\n",
    "            \"dims\" : 768,\n",
    "            \"index\" : True,\n",
    "            \"similarity\" : \"l2_norm\" # dist euclid \n",
    "        },\n",
    "    },\n",
    "}"
   ]
  }
 ],
 "metadata": {
  "kernelspec": {
   "display_name": "Python 3 (ipykernel)",
   "language": "python",
   "name": "python3"
  },
  "language_info": {
   "codemirror_mode": {
    "name": "ipython",
    "version": 3
   },
   "file_extension": ".py",
   "mimetype": "text/x-python",
   "name": "python",
   "nbconvert_exporter": "python",
   "pygments_lexer": "ipython3",
   "version": "3.9.13"
  }
 },
 "nbformat": 4,
 "nbformat_minor": 5
}
